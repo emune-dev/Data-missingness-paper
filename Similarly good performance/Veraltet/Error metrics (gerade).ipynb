{
 "cells": [
  {
   "cell_type": "markdown",
   "metadata": {},
   "source": [
    "# MCMC samples from the true posterior for the CR model\n",
    "\n",
    "Problem: Given an observed data set, generate MCMC samples from the posterior distribution.\n",
    "\n",
    "Reason: This is needed in order to define a performance metric."
   ]
  },
  {
   "cell_type": "code",
   "execution_count": 1,
   "metadata": {},
   "outputs": [],
   "source": [
    "# Install dependencies\n",
    "!pip install emcee corner --quiet"
   ]
  },
  {
   "cell_type": "code",
   "execution_count": 1,
   "metadata": {},
   "outputs": [],
   "source": [
    "import numpy as np\n",
    "import emcee\n",
    "import matplotlib.pyplot as plt\n",
    "import seaborn as sns\n",
    "import pandas as pd\n",
    "import tensorflow as tf\n",
    "from tensorflow.keras.layers import LSTM\n",
    "from scipy.stats import norm\n",
    "from scipy.integrate import solve_ivp, dblquad\n",
    "import random\n",
    "\n",
    "from bayesflow.networks import InvertibleNetwork\n",
    "from bayesflow.amortizers import SingleModelAmortizer\n",
    "from bayesflow.trainers import ParameterEstimationTrainer\n",
    "from bayesflow.diagnostics import *\n",
    "from bayesflow.error_metrics import *\n",
    "from bayesflow.models import GenerativeModel"
   ]
  },
  {
   "cell_type": "code",
   "execution_count": 2,
   "metadata": {},
   "outputs": [],
   "source": [
    "%load_ext autoreload\n",
    "%autoreload 2"
   ]
  },
  {
   "cell_type": "code",
   "execution_count": 3,
   "metadata": {},
   "outputs": [],
   "source": [
    "# ODE model for conversion reaction \n",
    "def prior(batch_size):\n",
    "    \"\"\"\n",
    "    Samples from the prior 'batch_size' times.\n",
    "    ----------\n",
    "    Output:\n",
    "    theta : np.ndarray of shape (batch_size, theta_dim) \n",
    "    \"\"\"    \n",
    "    # Prior range for log-parameters: k_1, k_2 ~ N(-0.75, 0.25²) iid.\n",
    "    p_samples = np.random.normal(-0.75, 0.25, size=(batch_size, 2))\n",
    "    return p_samples.astype(np.float32)\n",
    "   \n",
    "def conversion_reaction(t, x, theta):\n",
    "    theta = 10**theta\n",
    "    return np.array([-theta[0]*x[0]+theta[1]*x[1], theta[0]*x[0]-theta[1]*x[1]])\n",
    "\n",
    "x0 = [1,0]   # initial condition       \n",
    "sigma = 0.015   # noise standard deviation\n",
    "n_obs = 3\n",
    "time_points = np.linspace(0, 10, n_obs)\n",
    "missing_max = 2\n",
    "\n",
    "def batch_simulator_augment01(prior_samples, n_obs):\n",
    "    \"\"\"\n",
    "    Simulate multiple conversion model datasets with missing values and augmentation by zeros/ones\n",
    "    \"\"\"   \n",
    "    n_sim = prior_samples.shape[0]   # batch size \n",
    "    sim_data = np.ones((n_sim, n_obs, 2), dtype=np.float32)   # 1 batch consisting of n_sim datasets, each with n_obs observations\n",
    "    n_missing = np.random.randint(0, missing_max+1, size=n_sim)\n",
    "    \n",
    "    for m in range(n_sim):\n",
    "        theta = 10**prior_samples[m]\n",
    "        s = theta[0] + theta[1]\n",
    "        b = theta[0]/s\n",
    "        state_2 = lambda t: b - b * np.exp(-s*t)\n",
    "        sol = state_2(time_points)\n",
    "        sim_data[m, :, 0] = sol + np.random.normal(0, sigma, size = n_obs)   # observable: y = x_2 + N(0,sigma²) \n",
    "        \n",
    "        # artificially induce missing data\n",
    "        missing_indices = random.sample(range(n_obs), n_missing[m])\n",
    "        sim_data[m][missing_indices] = np.array([-1.0, 0.0])  \n",
    "        \n",
    "    return sim_data"
   ]
  },
  {
   "cell_type": "markdown",
   "metadata": {},
   "source": [
    "We build an amortized parameter estimation network."
   ]
  },
  {
   "cell_type": "code",
   "execution_count": 4,
   "metadata": {},
   "outputs": [],
   "source": [
    "bf_meta = {\n",
    "    'n_coupling_layers': 5,\n",
    "    's_args': {\n",
    "        'units': [64, 64, 64],\n",
    "        'activation': 'elu',\n",
    "        'initializer': 'glorot_uniform',\n",
    "    },\n",
    "    't_args': {\n",
    "        'units': [64, 64, 64],\n",
    "        'activation': 'elu',\n",
    "        'initializer': 'glorot_uniform',\n",
    "    },\n",
    "    'n_params': 2\n",
    "}"
   ]
  },
  {
   "cell_type": "markdown",
   "metadata": {},
   "source": [
    "## MCMC samples"
   ]
  },
  {
   "cell_type": "markdown",
   "metadata": {},
   "source": [
    "Generate representative samples from each posterior via MCMC. This is time-intensive. If this has been run already once and results have been stored, once can directly proceed by loading them in the \"Load\" section."
   ]
  },
  {
   "cell_type": "code",
   "execution_count": 5,
   "metadata": {},
   "outputs": [],
   "source": [
    "n_params = 100   # you should change it to 500\n",
    "true_params = prior(n_params) \n",
    "x_augment01 = batch_simulator_augment01(true_params, n_obs).astype(np.float32)"
   ]
  },
  {
   "cell_type": "code",
   "execution_count": 7,
   "metadata": {},
   "outputs": [
    {
     "name": "stderr",
     "output_type": "stream",
     "text": [
      "100%|██████████████████████████████████████████████████████████████████████████████████████████████████████████████████████████████████████████████████████████████████████████████████████████████████████████████████████████████████████████████| 100/100 [11:18<00:00,  6.79s/it]"
     ]
    },
    {
     "name": "stdout",
     "output_type": "stream",
     "text": [
      "CPU times: user 696 ms, sys: 130 ms, total: 826 ms\n",
      "Wall time: 11min 18s\n"
     ]
    },
    {
     "name": "stderr",
     "output_type": "stream",
     "text": [
      "\n"
     ]
    }
   ],
   "source": [
    "%%time\n",
    "# \"True\" means via MCMC sampling\n",
    "mcmc_means = np.empty((n_params, 2))\n",
    "\n",
    "from multiprocessing import Pool\n",
    "\n",
    "from tqdm import tqdm\n",
    "\n",
    "def do_sth(i):\n",
    "    present_timepoints = time_points[x_augment01[i,:,1]==1]\n",
    "    present_data = x_augment01[i, x_augment01[i,:,1]==1, 0]\n",
    "    \n",
    "    def log_prior(x,y):   \n",
    "        # Evaluates log-prior probability p(theta) according to k_1, k_2 ~ N(-0.75, 0.25²) iid.\n",
    "        return norm.logpdf(x,-0.75,0.25) + norm.logpdf(y,-0.75,0.25)\n",
    "\n",
    "    def log_likelihood(x,y):   \n",
    "        # Calculates log-likelihood p(x_{1:N} | theta) by ignoring the missing data\n",
    "        x = 10**x\n",
    "        y = 10**y\n",
    "        s = x + y\n",
    "        b = x/s\n",
    "        state_2 = lambda t: b - b * np.exp(-s*t)\n",
    "        sol = state_2(present_timepoints)\n",
    "        residual = (present_data - sol)/sigma\n",
    "        nllh = np.sum(np.log(2*np.pi*sigma**2)+residual**2)/2\n",
    "        return - nllh\n",
    "\n",
    "    def log_posterior(x,y):   \n",
    "        # Evaluates the unnormalized log-posterior probability p(theta | x_{1:N}) according to Bayes' formula\n",
    "        return log_likelihood(x,y) + log_prior(x,y)\n",
    "\n",
    "    def log_posterior_v(x: np.ndarray):\n",
    "        \"\"\"Log-posterior with a single vector-valued argument.\"\"\"\n",
    "        x, y = x\n",
    "        return log_posterior(x, y)\n",
    "\n",
    "    def sample(n_sample=10000, n_walker=10):\n",
    "        \"\"\"Perform sampling using emcee.\"\"\"\n",
    "        n_dim = 2\n",
    "        p0 = np.random.randn(n_walker, n_dim)\n",
    "        #with multiprocessing.Pool() as pool:\n",
    "        sampler = emcee.EnsembleSampler(n_walker, n_dim, log_posterior_v)\n",
    "        sampler.run_mcmc(p0, n_sample)    \n",
    "        samples = sampler.get_chain(flat=True)\n",
    "        return samples\n",
    "\n",
    "    # Sample\n",
    "    samples = sample(n_sample=10000)\n",
    "    \n",
    "    # Posterior mean\n",
    "    return (i, np.array([np.mean(samples[:, 0]), np.mean(samples[:, 1])]))\n",
    "\n",
    "with Pool() as pool:\n",
    "    results = list(tqdm(pool.imap_unordered(do_sth, range(n_params)), total=n_params))"
   ]
  },
  {
   "cell_type": "code",
   "execution_count": 8,
   "metadata": {},
   "outputs": [],
   "source": [
    "results = sorted(results, key=lambda x: x[0])\n",
    "mcmc_means = np.array([r for _, r in results])"
   ]
  },
  {
   "cell_type": "code",
   "execution_count": 9,
   "metadata": {},
   "outputs": [
    {
     "data": {
      "text/plain": [
       "array([[-0.82139527, -0.71616316],\n",
       "       [-0.7520882 , -0.7482915 ],\n",
       "       [-0.86669488, -0.82418335],\n",
       "       [-0.74697763, -0.76043405],\n",
       "       [-0.65187838, -0.63800977],\n",
       "       [-0.70400395, -0.80088158],\n",
       "       [-0.47037992, -0.88570748],\n",
       "       [-0.77897435, -0.74421253],\n",
       "       [-0.70381123, -0.47948836],\n",
       "       [-0.38858254, -0.73447043]])"
      ]
     },
     "execution_count": 9,
     "metadata": {},
     "output_type": "execute_result"
    }
   ],
   "source": [
    "mcmc_means[:10,:]"
   ]
  },
  {
   "cell_type": "markdown",
   "metadata": {},
   "source": [
    "## Save results"
   ]
  },
  {
   "cell_type": "code",
   "execution_count": 10,
   "metadata": {},
   "outputs": [],
   "source": [
    "np.save(\"true_params.npy\", true_params)\n",
    "np.save(\"mcmc_means.npy\", mcmc_means)\n",
    "np.save(\"x_augment01.npy\", x_augment01)"
   ]
  },
  {
   "cell_type": "markdown",
   "metadata": {},
   "source": [
    "## Load results"
   ]
  },
  {
   "cell_type": "code",
   "execution_count": 6,
   "metadata": {},
   "outputs": [],
   "source": [
    "true_params = np.load(\"true_params.npy\")\n",
    "mcmc_means = np.load(\"mcmc_means.npy\")\n",
    "x_augment01 = np.load(\"x_augment01.npy\")"
   ]
  },
  {
   "cell_type": "markdown",
   "metadata": {},
   "source": [
    "## Sample Augment 0/1 from BayesFlow"
   ]
  },
  {
   "cell_type": "code",
   "execution_count": 7,
   "metadata": {},
   "outputs": [
    {
     "name": "stdout",
     "output_type": "stream",
     "text": [
      "TRAINER INITIALIZATION: No generative model provided. Only offline learning mode is available!\n",
      "Networks loaded from ./CR3_augment01_5ACB_[64,64,64]_LSTM(8)_ckpts\\ckpt-300\n",
      "NRMSE(k_1): 0.008 ± 0.001\n",
      "NRMSE(k_2): 0.011 ± 0.002\n",
      "R²(k_1): 0.999 ± 0.000\n",
      "R²(k_2): 0.996 ± 0.001\n",
      "Wall time: 10.9 s\n"
     ]
    }
   ],
   "source": [
    "%%time\n",
    "\n",
    "# Augment by 0/1\n",
    "summary_net = LSTM(8)\n",
    "inference_net = InvertibleNetwork(bf_meta)\n",
    "amortizer = SingleModelAmortizer(inference_net, summary_net)\n",
    "trainer = ParameterEstimationTrainer(network=amortizer, checkpoint_path='./CR3_augment01_5ACB_[64,64,64]_LSTM(8)_ckpts', skip_checks=True)\n",
    "\n",
    "# BayesFlow samples from the learned posterior\n",
    "param_samples_augment01 = amortizer.sample(x_augment01, n_samples=1000)\n",
    "v_augment01 = bootstrap_metrics(np.swapaxes(param_samples_augment01, 0, 1), mcmc_means)\n",
    "a1 = display_metrics(v_augment01)"
   ]
  },
  {
   "cell_type": "code",
   "execution_count": 12,
   "metadata": {
    "tags": []
   },
   "outputs": [
    {
     "data": {
      "text/plain": [
       "array([[-0.82423043, -0.7218121 ],\n",
       "       [-0.7278127 , -0.7430381 ],\n",
       "       [-0.8703058 , -0.8305398 ],\n",
       "       [-0.7512217 , -0.76593596],\n",
       "       [-0.6549774 , -0.64256907],\n",
       "       [-0.7050461 , -0.8037123 ],\n",
       "       [-0.46563205, -0.8739369 ],\n",
       "       [-0.7809322 , -0.7488827 ],\n",
       "       [-0.70519984, -0.4825006 ],\n",
       "       [-0.3962715 , -0.73958397]], dtype=float32)"
      ]
     },
     "execution_count": 12,
     "metadata": {},
     "output_type": "execute_result"
    }
   ],
   "source": [
    "bayesflow_means = np.mean(param_samples_augment01, axis=1)\n",
    "bayesflow_means[:10,:]"
   ]
  },
  {
   "cell_type": "markdown",
   "metadata": {},
   "source": [
    "## Sample Insert c from BayesFlow"
   ]
  },
  {
   "cell_type": "code",
   "execution_count": 8,
   "metadata": {},
   "outputs": [
    {
     "name": "stdout",
     "output_type": "stream",
     "text": [
      "TRAINER INITIALIZATION: No generative model provided. Only offline learning mode is available!\n",
      "Networks loaded from ./CR3_insert-1_5ACB_[64,64,64]_LSTM(8)_ckpts\\ckpt-300\n",
      "WARNING:tensorflow:Detecting that an object or model or tf.train.Checkpoint is being deleted with unrestored values. See the following logs for the specific values in question. To silence these warnings, use `status.expect_partial()`. See https://www.tensorflow.org/api_docs/python/tf/train/Checkpoint#restorefor details about the status object returned by the restore function.\n",
      "WARNING:tensorflow:Value in checkpoint could not be found in the restored object: (root).optimizer.iter\n",
      "WARNING:tensorflow:Value in checkpoint could not be found in the restored object: (root).optimizer.beta_1\n",
      "WARNING:tensorflow:Value in checkpoint could not be found in the restored object: (root).optimizer.beta_2\n",
      "WARNING:tensorflow:Value in checkpoint could not be found in the restored object: (root).optimizer.decay\n",
      "NRMSE(k_1): 0.010 ± 0.002\n",
      "NRMSE(k_2): 0.011 ± 0.002\n",
      "R²(k_1): 0.998 ± 0.001\n",
      "R²(k_2): 0.996 ± 0.002\n"
     ]
    }
   ],
   "source": [
    "#%%time\n",
    "\n",
    "# Insert -1\n",
    "summary_net = LSTM(8)\n",
    "inference_net = InvertibleNetwork(bf_meta)\n",
    "amortizer = SingleModelAmortizer(inference_net, summary_net)\n",
    "trainer = ParameterEstimationTrainer(network=amortizer, checkpoint_path='./CR3_insert-1_5ACB_[64,64,64]_LSTM(8)_ckpts', skip_checks=True)\n",
    "\n",
    "# BayesFlow samples from the learned posterior\n",
    "x_insert = np.ones((n_params, n_obs, 1), dtype=np.float32)\n",
    "for m in range(n_params):\n",
    "    x_insert[m, :, 0] = x_augment01[m, :, 0]\n",
    "    \n",
    "param_samples_insert = amortizer.sample(x_insert, n_samples=1000)\n",
    "v_insert = bootstrap_metrics(np.swapaxes(param_samples_insert, 0, 1), mcmc_means)\n",
    "a2 = display_metrics(v_insert)"
   ]
  },
  {
   "cell_type": "markdown",
   "metadata": {},
   "source": [
    "## Sample Time labels from BayesFlow"
   ]
  },
  {
   "cell_type": "code",
   "execution_count": 9,
   "metadata": {},
   "outputs": [
    {
     "name": "stdout",
     "output_type": "stream",
     "text": [
      "TRAINER INITIALIZATION: No generative model provided. Only offline learning mode is available!\n",
      "Networks loaded from ./CR3_timepoints_5ACB_[64,64,64]_LSTM(8)_ckpts\\ckpt-300\n",
      "WARNING:tensorflow:Detecting that an object or model or tf.train.Checkpoint is being deleted with unrestored values. See the following logs for the specific values in question. To silence these warnings, use `status.expect_partial()`. See https://www.tensorflow.org/api_docs/python/tf/train/Checkpoint#restorefor details about the status object returned by the restore function.\n",
      "WARNING:tensorflow:Value in checkpoint could not be found in the restored object: (root).optimizer.iter\n",
      "WARNING:tensorflow:Value in checkpoint could not be found in the restored object: (root).optimizer.beta_1\n",
      "WARNING:tensorflow:Value in checkpoint could not be found in the restored object: (root).optimizer.beta_2\n",
      "WARNING:tensorflow:Value in checkpoint could not be found in the restored object: (root).optimizer.decay\n",
      "NRMSE(k_1): 0.011 ± 0.002\n",
      "NRMSE(k_2): 0.011 ± 0.002\n",
      "R²(k_1): 0.998 ± 0.001\n",
      "R²(k_2): 0.996 ± 0.001\n",
      "Wall time: 18 s\n"
     ]
    }
   ],
   "source": [
    "%%time\n",
    "\n",
    "# Time labels\n",
    "summary_net = LSTM(8)\n",
    "inference_net = InvertibleNetwork(bf_meta)\n",
    "amortizer = SingleModelAmortizer(inference_net, summary_net)\n",
    "trainer = ParameterEstimationTrainer(network=amortizer, checkpoint_path='./CR3_timepoints_5ACB_[64,64,64]_LSTM(8)_ckpts', skip_checks=True)\n",
    "# BayesFlow samples from the learned posterior\n",
    "param_samples_timepoints = np.empty((n_params, 1000, 2), dtype=np.float32)\n",
    "for m in range(n_params):\n",
    "    x = x_augment01[m, :, 1]\n",
    "    present_indices = np.where(x == 1.)[0]\n",
    "    x_timepoints = np.empty((1, len(present_indices), 2), dtype=np.float32)\n",
    "    x_timepoints[0, :, 0] = x_augment01[m, present_indices, 0]\n",
    "    x_timepoints[0, :, 1] = time_points[present_indices]\n",
    "    param_samples_timepoints[m] = amortizer.sample(x_timepoints, n_samples=1000)\n",
    "v_timepoints = bootstrap_metrics(np.swapaxes(param_samples_timepoints, 0, 1), mcmc_means)\n",
    "a3 = display_metrics(v_timepoints)"
   ]
  },
  {
   "cell_type": "markdown",
   "metadata": {},
   "source": [
    "## Visualize"
   ]
  },
  {
   "cell_type": "code",
   "execution_count": 10,
   "metadata": {},
   "outputs": [],
   "source": [
    "def true_vs_estimated(theta_true, theta_est, param_names, figsize=(8, 4), show=True, filename=None, font_size=12):\n",
    "    \"\"\" Plots a scatter plot with abline of the estimated posterior means vs true values. \"\"\"\n",
    "\n",
    "    # Plot settings\n",
    "    plt.rcParams['font.size'] = font_size\n",
    "\n",
    "    # Determine n_subplots dynamically\n",
    "    n_row = int(np.ceil(len(param_names) / 6))\n",
    "    n_col = int(np.ceil(len(param_names) / n_row))\n",
    "\n",
    "    # Initialize figure\n",
    "    f, axarr = plt.subplots(n_row, n_col, figsize=figsize)\n",
    "    if n_row > 1:\n",
    "        axarr = axarr.flat\n",
    "        \n",
    "    # --- Plot true vs estimated posterior means on a single row --- #\n",
    "    for j in range(len(param_names)):\n",
    "        \n",
    "        # Plot analytic vs estimated\n",
    "        axarr[j].scatter(theta_est[:, j], theta_true[:, j], color='black', alpha=0.4)\n",
    "        \n",
    "        # get axis limits and set equal x and y limits\n",
    "        lower_lim = min(axarr[j].get_xlim()[0], axarr[j].get_ylim()[0])\n",
    "        upper_lim = max(axarr[j].get_xlim()[1], axarr[j].get_ylim()[1])\n",
    "        axarr[j].set_xlim((lower_lim, upper_lim))\n",
    "        axarr[j].set_ylim((lower_lim, upper_lim))\n",
    "        axarr[j].plot(axarr[j].get_xlim(), axarr[j].get_xlim(), '--', color='black')\n",
    "        \n",
    "        # Compute NRMSE\n",
    "        rmse = np.sqrt(np.mean( (theta_est[:, j] - theta_true[:, j])**2 ))\n",
    "        nrmse = rmse / (theta_true[:, j].max() - theta_true[:, j].min())\n",
    "        axarr[j].text(0.1, 0.9, 'NRMSE={:.3f}'.format(nrmse),\n",
    "                     horizontalalignment='left',\n",
    "                     verticalalignment='center',\n",
    "                     transform=axarr[j].transAxes,\n",
    "                     size=12)\n",
    "        \n",
    "        # Compute R2\n",
    "        r2 = r2_score(theta_true[:, j], theta_est[:, j])\n",
    "        axarr[j].text(0.1, 0.8, '$R^2$={:.3f}'.format(r2),\n",
    "                     horizontalalignment='left',\n",
    "                     verticalalignment='center',\n",
    "                     transform=axarr[j].transAxes, \n",
    "                     size=12)\n",
    "        \n",
    "        if j == 0:\n",
    "            # Label plot\n",
    "            axarr[j].set_xlabel('Estimated')\n",
    "            axarr[j].set_ylabel('True')\n",
    "        axarr[j].set_title(param_names[j])\n",
    "        axarr[j].spines['right'].set_visible(False)\n",
    "        axarr[j].spines['top'].set_visible(False)\n",
    "    \n",
    "    # Adjust spaces\n",
    "    f.tight_layout()\n",
    "    if show:\n",
    "        plt.show()\n",
    "    # Save if specified\n",
    "    if filename is not None:\n",
    "        f.savefig(\"figures/{}_metrics.png\".format(filename), dpi=600, bbox_inches='tight')\n",
    "    return f"
   ]
  },
  {
   "cell_type": "code",
   "execution_count": 13,
   "metadata": {},
   "outputs": [
    {
     "data": {
      "image/png": "[encoded data removed]",
      "text/plain": [
       "<Figure size 432x288 with 1 Axes>"
      ]
     },
     "metadata": {
      "needs_background": "light"
     },
     "output_type": "display_data"
    }
   ],
   "source": [
    "# just a check whether the above function does the right thing\n",
    "data = pd.DataFrame(data={\n",
    "    \"true_1\": true_params[:, 0],\n",
    "    \"true_2\": true_params[:, 1],\n",
    "    \"mcmc_1\": mcmc_means[:, 0],\n",
    "    \"mcmc_2\": mcmc_means[:, 1],\n",
    "    \"bayesflow_1\": bayesflow_means[:, 0],\n",
    "    \"bayesflow_2\": bayesflow_means[:, 1],\n",
    "})\n",
    "\n",
    "sns.regplot(x=\"mcmc_1\", y=\"bayesflow_1\", data=data);"
   ]
  },
  {
   "cell_type": "code",
   "execution_count": 15,
   "metadata": {},
   "outputs": [
    {
     "data": {
      "image/png": "[encoded data removed]",
      "text/plain": [
       "<Figure size 576x288 with 2 Axes>"
      ]
     },
     "metadata": {
      "needs_background": "light"
     },
     "output_type": "display_data"
    },
    {
     "data": {
      "image/png": "[encoded data removed]",
      "text/plain": [
       "<Figure size 576x288 with 2 Axes>"
      ]
     },
     "metadata": {
      "needs_background": "light"
     },
     "output_type": "display_data"
    },
    {
     "data": {
      "image/png": "[encoded data removed]",
      "text/plain": [
       "<Figure size 576x288 with 2 Axes>"
      ]
     },
     "metadata": {
      "needs_background": "light"
     },
     "output_type": "display_data"
    }
   ],
   "source": [
    "for samples, label in [\n",
    "    (param_samples_augment01, \"Augment 0/1\"),\n",
    "    (param_samples_insert, \"Insert -1\"),\n",
    "    (param_samples_timepoints, \"Timepoints\")\n",
    "]:\n",
    "    bayesflow_means = np.mean(samples, axis=1)\n",
    "    f = true_vs_estimated(mcmc_means, bayesflow_means, [\"$k_1$\", \"$k_2$\"])\n",
    "    f.suptitle(label)"
   ]
  },
  {
   "cell_type": "code",
   "execution_count": 17,
   "metadata": {},
   "outputs": [
    {
     "data": {
      "image/png": "[encoded data removed]",
      "text/plain": [
       "<Figure size 720x180 with 6 Axes>"
      ]
     },
     "metadata": {
      "needs_background": "light"
     },
     "output_type": "display_data"
    }
   ],
   "source": [
    "fig, ax = plt.subplots(1, 6, figsize=(10, 2.5))\n",
    "#plt.rcParams['font.size'] = 15\n",
    "\n",
    "#bar_chart(\n",
    "#    ax, np.array([-6.401, -6.391, -6.429]), 0, 'KL loss',\n",
    "#    #y_lim=np.array([-6.45, -6.35]),\n",
    "#)\n",
    "bar_chart(\n",
    "    ax, np.array([a1[0,0], a2[0,0], a3[0,0]]), 1, 'NRMSE$(k_1)$', \n",
    "    se=np.array([a1[1,0], a2[1,0], a3[1,0]]),\n",
    "    #y_lim=np.array([0.0155, 0.029]),\n",
    ")\n",
    "bar_chart(\n",
    "    ax, np.array([a1[0,1], a2[0,1], a3[0,1]]), 2, 'NRMSE$(k_2)$', \n",
    "    se=np.array([a1[1,1], a2[1,1], a3[1,1]]),\n",
    "    #y_lim=np.array([0.030, 0.055]),\n",
    ")\n",
    "bar_chart(\n",
    "    ax, np.array([a1[0,2], a2[0,2], a3[0,2]]), 3, '$R^2(k_1)$', \n",
    "    se=np.array([a1[1,2], a2[1,2], a3[1,2]]), \n",
    "    #y_lim=np.array([0.963, 0.984]), y_ticks=np.array([0.965, 0.970, 0.975, 0.980]),\n",
    ")\n",
    "bar_chart(\n",
    "    ax, np.array([a1[0,3], a2[0,3], a3[0,3]]), 4, '$R^2(k_2)$', \n",
    "    se=np.array([a1[1,3], a2[1,3], a3[1,3]]), \n",
    "    #y_lim=np.array([0.895, 0.94]), y_ticks=np.array([0.90, 0.91, 0.92, 0.93, 0.94]),\n",
    ")\n",
    "#bar_chart(\n",
    "#    ax, np.array([8+6/60, 8+11/60, 8+7/60]), 5, 'Training time (h)', \n",
    "#    #y_lim=np.array([6.5,8.75]), y_ticks=np.array([6.5, 7.0, 7.5, 8.0, 8.5]),\n",
    "#)\n",
    "\n",
    "for axes in ax: \n",
    "    handles, labels = axes.get_legend_handles_labels()\n",
    "fig.legend(handles, labels, loc='lower center', bbox_to_anchor=(0.5,-0.11), ncol=4, fontsize=21)\n",
    "plt.tight_layout()\n",
    "plt.show()\n",
    "#fig.savefig(\"figures/{}_bar_chart.png\".format('CR3'), dpi=300, bbox_inches='tight')"
   ]
  }
 ],
 "metadata": {
  "kernelspec": {
   "display_name": "Python 3",
   "language": "python",
   "name": "python3"
  },
  "language_info": {
   "codemirror_mode": {
    "name": "ipython",
    "version": 3
   },
   "file_extension": ".py",
   "mimetype": "text/x-python",
   "name": "python",
   "nbconvert_exporter": "python",
   "pygments_lexer": "ipython3",
   "version": "3.7.6"
  }
 },
 "nbformat": 4,
 "nbformat_minor": 5
}
