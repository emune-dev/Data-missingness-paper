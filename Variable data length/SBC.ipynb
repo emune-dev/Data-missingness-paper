{
 "cells": [
  {
   "cell_type": "markdown",
   "metadata": {},
   "source": [
    "# SBC for the oscillatory model (variable data set length)"
   ]
  },
  {
   "cell_type": "code",
   "execution_count": 1,
   "metadata": {},
   "outputs": [],
   "source": [
    "import numpy as np\n",
    "import matplotlib.pyplot as plt\n",
    "import seaborn as sns\n",
    "import pandas as pd\n",
    "import tensorflow as tf\n",
    "from tensorflow.keras.layers import LSTM\n",
    "from scipy.stats import binom, norm\n",
    "import random\n",
    "\n",
    "from bayesflow.networks import InvertibleNetwork\n",
    "from bayesflow.amortizers import SingleModelAmortizer\n",
    "from bayesflow.trainers import ParameterEstimationTrainer\n",
    "from bayesflow.models import GenerativeModel"
   ]
  },
  {
   "cell_type": "code",
   "execution_count": 2,
   "metadata": {},
   "outputs": [],
   "source": [
    "def prior(batch_size):\n",
    "    \"\"\"\n",
    "    Samples from the prior 'batch_size' times.\n",
    "    ----------\n",
    "    Output:\n",
    "    theta : np.ndarray of shape (batch_size, theta_dim) \n",
    "    \"\"\"    \n",
    "    # Prior range: frequency parameter a ~ U(0.1, 1) & shift parameter b ~ N(0, 0.25²)\n",
    "    freq_samples = np.random.uniform(0.1, 1.0, size=(batch_size, 1))\n",
    "    shift_samples = np.random.normal(0.0, 0.25, size=(batch_size, 1))\n",
    "    p_samples = np.c_[freq_samples, shift_samples]\n",
    "    return p_samples.astype(np.float32)\n",
    "\n",
    "# Oscillation model        \n",
    "n_obs = 41  \n",
    "n_min = 2\n",
    "time_points = np.linspace(0, 10, n_obs)\n",
    "sigma = 0.05   # noise standard deviation\n",
    "\n",
    "def batch_simulator_augment01(prior_samples, n_obs):   \n",
    "    \"\"\"\n",
    "    Simulate multiple oscillation model datasets with missing values at the end and binary augmentation\n",
    "    \"\"\"    \n",
    "    n_sim = prior_samples.shape[0]   # batch size    \n",
    "    sim_data = np.ones((n_sim, n_obs, 2), dtype=np.float32)   # 1 batch consisting of n_sim datasets, each with n_obs observations  \n",
    "    n_present = np.random.randint(n_min, n_obs + 1, size=n_sim)\n",
    "    \n",
    "    for m in range(n_sim):\n",
    "        a = prior_samples[m, 0]   # frequency\n",
    "        b = prior_samples[m, 1]   # shift\n",
    "        sim_data[m, 0:n_present[m], 0] = np.sin(a*2*np.pi*time_points[0:n_present[m]]) + b + np.random.normal(0, sigma, size=n_present[m])\n",
    "        \n",
    "        # artificially induce missing data\n",
    "        sim_data[m][n_present[m]:n_obs] = np.array([-5.0, 0.0])\n",
    "        \n",
    "    return sim_data  "
   ]
  },
  {
   "cell_type": "markdown",
   "metadata": {},
   "source": [
    "We build an amortized parameter estimation network."
   ]
  },
  {
   "cell_type": "code",
   "execution_count": 3,
   "metadata": {},
   "outputs": [],
   "source": [
    "bf_meta = {\n",
    "    'n_coupling_layers': 5,\n",
    "    's_args': {\n",
    "        'units': [64, 64, 64],\n",
    "        'activation': 'elu',\n",
    "        'initializer': 'glorot_uniform',\n",
    "    },\n",
    "    't_args': {\n",
    "        'units': [64, 64, 64],\n",
    "        'activation': 'elu',\n",
    "        'initializer': 'glorot_uniform',\n",
    "    },\n",
    "    'n_params': 2\n",
    "}"
   ]
  },
  {
   "cell_type": "markdown",
   "metadata": {},
   "source": [
    "## Generate test data sets"
   ]
  },
  {
   "cell_type": "code",
   "execution_count": 4,
   "metadata": {},
   "outputs": [],
   "source": [
    "n_sbc = 5000\n",
    "n_post_samples_sbc = 250\n",
    "params_sbc = prior(n_sbc)\n",
    "x_augment01 = batch_simulator_augment01(params_sbc, n_obs)"
   ]
  },
  {
   "cell_type": "markdown",
   "metadata": {},
   "source": [
    "## Sample from BayesFlow using the different encodings"
   ]
  },
  {
   "cell_type": "code",
   "execution_count": 5,
   "metadata": {},
   "outputs": [
    {
     "name": "stdout",
     "output_type": "stream",
     "text": [
      "TRAINER INITIALIZATION: No generative model provided. Only offline learning mode is available!\n",
      "Networks loaded from ./Osc(2-41)_augment01_5ACB_[64,64,64]_LSTM(128)_ckpts\\ckpt-300\n",
      "Wall time: 51.6 s\n"
     ]
    }
   ],
   "source": [
    "%%time\n",
    "\n",
    "# Augment by 0/1\n",
    "summary_net = LSTM(128)\n",
    "inference_net = InvertibleNetwork(bf_meta)\n",
    "amortizer = SingleModelAmortizer(inference_net, summary_net)\n",
    "ParameterEstimationTrainer(network=amortizer, checkpoint_path='./Osc(2-41)_augment01_5ACB_[64,64,64]_LSTM(128)_ckpts', skip_checks=True)\n",
    "\n",
    "# BayesFlow samples from the learned posterior\n",
    "param_samples_augment01 = amortizer.sample(x_augment01, n_post_samples_sbc)"
   ]
  },
  {
   "cell_type": "code",
   "execution_count": 7,
   "metadata": {},
   "outputs": [
    {
     "name": "stdout",
     "output_type": "stream",
     "text": [
      "TRAINER INITIALIZATION: No generative model provided. Only offline learning mode is available!\n",
      "Networks loaded from ./Osc(2-41)_5ACB_[64,64,64]_LSTM(128)_ckpts\\ckpt-300\n",
      "Wall time: 7min 59s\n"
     ]
    }
   ],
   "source": [
    "%%time\n",
    "\n",
    "# Original BayesFlow\n",
    "summary_net = LSTM(128)\n",
    "inference_net = InvertibleNetwork(bf_meta)\n",
    "amortizer = SingleModelAmortizer(inference_net, summary_net)\n",
    "ParameterEstimationTrainer(network=amortizer, checkpoint_path='./Osc(2-41)_5ACB_[64,64,64]_LSTM(128)_ckpts', skip_checks=True)\n",
    "\n",
    "# BayesFlow samples from the learned posterior\n",
    "param_samples_original = np.empty((n_sbc, n_post_samples_sbc, 2), dtype=np.float32)\n",
    "for m in range(n_sbc):\n",
    "    x = x_augment01[m, :, 1]\n",
    "    n_present = len(np.where(x == 1.)[0])\n",
    "    x_present = np.empty((1, n_present, 1), dtype=np.float32)\n",
    "    x_present[0, :, 0] = x_augment01[m, 0:n_present, 0]\n",
    "    param_samples_original[m] = amortizer.sample(x_present, n_post_samples_sbc)"
   ]
  },
  {
   "cell_type": "markdown",
   "metadata": {},
   "source": [
    "## Plotting method"
   ]
  },
  {
   "cell_type": "code",
   "execution_count": 8,
   "metadata": {},
   "outputs": [],
   "source": [
    "def plot_sbc(axarr, theta_samples, theta_test, param_names, bins=25, interval=0.99):\n",
    "    \"\"\" Plots the simulation-based posterior checking histograms as advocated by Talts et al. (2018). \"\"\"\n",
    "\n",
    "    # Plot settings\n",
    "    N = int(theta_test.shape[0])\n",
    "\n",
    "    # Compute ranks (using broadcasting)    \n",
    "    ranks = np.sum(theta_samples < theta_test[:, np.newaxis, :], axis=1)\n",
    "    \n",
    "    # Compute interval\n",
    "    endpoints = binom.interval(interval, N, 1 / bins)\n",
    "\n",
    "    # Plot histograms\n",
    "    for j in range(len(param_names)):\n",
    "        \n",
    "        # Add interval\n",
    "        axarr[j].axhspan(endpoints[0], endpoints[1], facecolor='gray', alpha=0.3)\n",
    "        axarr[j].axhline(np.mean(endpoints), color='gray', zorder=0, alpha=0.5)\n",
    "        \n",
    "        sns.histplot(ranks[:, j], kde=False, ax=axarr[j], color='#a34f4f', bins=bins, alpha=0.95)\n",
    "        \n",
    "        axarr[j].set_title(param_names[j])\n",
    "        axarr[j].spines['right'].set_visible(False)\n",
    "        axarr[j].spines['top'].set_visible(False)\n",
    "        if j == len(param_names) - 1:\n",
    "            axarr[j].set_xlabel('Rank statistic')\n",
    "        axarr[j].get_yaxis().set_ticks([])\n",
    "        axarr[j].set_ylabel('')"
   ]
  },
  {
   "cell_type": "markdown",
   "metadata": {},
   "source": [
    "## SBC histograms"
   ]
  },
  {
   "cell_type": "code",
   "execution_count": 9,
   "metadata": {},
   "outputs": [
    {
     "data": {
      "image/png": "[encoded data removed]",
      "text/plain": [
       "<Figure size 576x432 with 4 Axes>"
      ]
     },
     "metadata": {
      "needs_background": "light"
     },
     "output_type": "display_data"
    }
   ],
   "source": [
    "fig = plt.figure(figsize=(8, 6), constrained_layout=True)\n",
    "subfigs = fig.subfigures(nrows=1, ncols=2, wspace=0.15)\n",
    "all_axes = [subfig.subplots(nrows=2, ncols=1, gridspec_kw={'wspace': 0}) for subfig in subfigs.ravel()]\n",
    "\n",
    "for ix, (samples, label) in enumerate([\n",
    "    (param_samples_original, \"Original BayesFlow\"),\n",
    "    (param_samples_augment01, \"Augment by $0/1$\")\n",
    "]):\n",
    "    axes = all_axes[ix].flat\n",
    "    plot_sbc(axes, samples, params_sbc, [\"$a$\", \"$b$\"])\n",
    "    subfigs[ix].suptitle(label)\n",
    "    if ix > 0:\n",
    "        for ax in axes:\n",
    "            ax.set_ylabel(None)\n",
    "plt.suptitle(\" \", fontsize=0.1)\n",
    "\n",
    "for fmt in [\"png\", \"pdf\"]:\n",
    "    fig.savefig(f\"figures/Osc_variable_length_sbc.{fmt}\", dpi=300, bbox_inches='tight')"
   ]
  }
 ],
 "metadata": {
  "kernelspec": {
   "display_name": "Python 3",
   "language": "python",
   "name": "python3"
  },
  "language_info": {
   "codemirror_mode": {
    "name": "ipython",
    "version": 3
   },
   "file_extension": ".py",
   "mimetype": "text/x-python",
   "name": "python",
   "nbconvert_exporter": "python",
   "pygments_lexer": "ipython3",
   "version": "3.7.6"
  }
 },
 "nbformat": 4,
 "nbformat_minor": 5
}
