{
 "cells": [
  {
   "cell_type": "markdown",
   "id": "7e10b16e-2451-43d3-9ed2-3285de30136f",
   "metadata": {},
   "source": [
    "# MCMC samples from the true posterior for the CR model\n",
    "\n",
    "Problem: Given an observed data set, generate MCMC samples from the posterior distribution.\n",
    "\n",
    "Reason: This is needed in order to define a performance metric."
   ]
  },
  {
   "cell_type": "code",
   "execution_count": 1,
   "id": "43d98f62-5adf-472c-bd11-0db1a516eb8e",
   "metadata": {},
   "outputs": [],
   "source": [
    "# Install dependencies\n",
    "\n",
    "!pip install emcee corner --quiet"
   ]
  },
  {
   "cell_type": "code",
   "execution_count": 2,
   "id": "1f952a4b-d186-4e0d-b463-ca8225e98437",
   "metadata": {},
   "outputs": [],
   "source": [
    "# Define problem\n",
    "\n",
    "import numpy as np\n",
    "from scipy.stats import norm\n",
    "import emcee\n",
    "\n",
    "x0 = [1,0]   # initial condition       \n",
    "sigma = 0.015   # noise standard deviation\n",
    "n_obs = 3\n",
    "time_points = np.linspace(0, 10, n_obs)\n",
    "missing_max = 2\n",
    "\n",
    "# Demo dataset 1 (t=5: 0.4926555573669797)\n",
    "param_prior = np.array([[-0.7, -0.9]])\n",
    "result = [np.array([-0.02, 0.499, 0.57]), np.array([1, 2]), np.array([5., 10.])]\n",
    "\n",
    "# Demo dataset 1'' \n",
    "param_prior = np.array([[-0.7, -0.9]])\n",
    "result = [np.array([-0.02, 0.5, 0.57]), np.array([2]), np.array([10.])]\n",
    "\n",
    "def log_prior(x,y):   \n",
    "    # Evaluates prior probability p(theta) according to k_1, k_2 ~ N(-0.75, 0.25²) iid.\n",
    "    return norm.logpdf(x,-0.75,0.25) + norm.logpdf(y,-0.75,0.25)\n",
    "\n",
    "def log_likelihood(x,y):   \n",
    "    # Calculates likelihood p(x_{1:N} | theta) by ignoring the missing data\n",
    "    x = 10**x\n",
    "    y = 10**y\n",
    "    s = x + y\n",
    "    b = x/s\n",
    "    state_2 = lambda t: b - b * np.exp(-s*t)\n",
    "    sol = state_2(result[2])\n",
    "    residual = (result[0][result[1]] - sol)/sigma\n",
    "    nllh = np.sum(np.log(2*np.pi*sigma**2)+residual**2)/2\n",
    "    return - nllh\n",
    "\n",
    "def log_posterior(x,y):   \n",
    "    # Evaluates the unnormalized posterior probability p(theta | x_{1:N}) according to Bayes' formula\n",
    "    return log_likelihood(x,y) + log_prior(x,y)\n",
    "\n",
    "def log_posterior_v(x: np.ndarray):\n",
    "    \"\"\"Log-posterior with a single vector-valued argument.\"\"\"\n",
    "    x, y = x\n",
    "    return log_posterior(x, y)\n",
    "\n",
    "\n",
    "\n",
    "def sample(n_sample=10000, n_walker=10):\n",
    "    \"\"\"Perform sampling using emcee.\"\"\"\n",
    "    n_dim = 2\n",
    "    p0 = np.random.randn(n_walker, n_dim)\n",
    "\n",
    "    sampler = emcee.EnsembleSampler(n_walker, n_dim, log_posterior_v)\n",
    "    sampler.run_mcmc(p0, n_sample)\n",
    "    \n",
    "    samples = sampler.get_chain(flat=True)\n",
    "    return samples"
   ]
  },
  {
   "cell_type": "code",
   "execution_count": 3,
   "id": "e599c21c-04ed-4f25-8f9a-880a757cef4c",
   "metadata": {},
   "outputs": [
    {
     "name": "stdout",
     "output_type": "stream",
     "text": [
      "CPU times: user 1.5 s, sys: 0 ns, total: 1.5 s\n",
      "Wall time: 1.5 s\n"
     ]
    },
    {
     "data": {
      "text/plain": [
       "(-0.6432104969249682, -0.8038022365893867)"
      ]
     },
     "execution_count": 3,
     "metadata": {},
     "output_type": "execute_result"
    }
   ],
   "source": [
    "%%time\n",
    "\n",
    "# Sample\n",
    "samples = sample(n_sample=1000)\n",
    "\n",
    "# Posterior mean\n",
    "np.mean(samples[:, 0]), np.mean(samples[:, 1])"
   ]
  },
  {
   "cell_type": "code",
   "execution_count": 4,
   "id": "acaace6c-0710-4eb6-883e-c4d5ff2316de",
   "metadata": {},
   "outputs": [
    {
     "name": "stdout",
     "output_type": "stream",
     "text": [
      "CPU times: user 14.6 s, sys: 0 ns, total: 14.6 s\n",
      "Wall time: 14.6 s\n"
     ]
    },
    {
     "data": {
      "text/plain": [
       "(-0.6560005657175841, -0.8247013374849481)"
      ]
     },
     "execution_count": 4,
     "metadata": {},
     "output_type": "execute_result"
    }
   ],
   "source": [
    "%%time\n",
    "\n",
    "# Sample\n",
    "samples = sample(n_sample=10000)\n",
    "\n",
    "# Posterior mean\n",
    "np.mean(samples[:, 0]), np.mean(samples[:, 1])"
   ]
  },
  {
   "cell_type": "code",
   "execution_count": 5,
   "id": "138cc37f-c97c-440e-914c-9f2d4a9b5f11",
   "metadata": {},
   "outputs": [
    {
     "name": "stdout",
     "output_type": "stream",
     "text": [
      "CPU times: user 1min 16s, sys: 25.6 ms, total: 1min 16s\n",
      "Wall time: 1min 16s\n"
     ]
    },
    {
     "data": {
      "text/plain": [
       "(-0.6574512017535142, -0.8250898246014968)"
      ]
     },
     "execution_count": 5,
     "metadata": {},
     "output_type": "execute_result"
    }
   ],
   "source": [
    "%%time\n",
    "\n",
    "# Sample\n",
    "samples = sample(n_sample=50000)\n",
    "\n",
    "# Posterior mean\n",
    "np.mean(samples[:, 0]), np.mean(samples[:, 1])"
   ]
  },
  {
   "cell_type": "code",
   "execution_count": 6,
   "id": "b8109edc-f9b5-43dd-8812-6e274c989472",
   "metadata": {},
   "outputs": [
    {
     "data": {
      "image/png": "[encoded data removed]",
      "text/plain": [
       "<Figure size 550x550 with 4 Axes>"
      ]
     },
     "metadata": {},
     "output_type": "display_data"
    }
   ],
   "source": [
    "# Plot\n",
    "\n",
    "import corner\n",
    "\n",
    "fig = corner.corner(\n",
    "    samples,\n",
    ");"
   ]
  }
 ],
 "metadata": {
  "kernelspec": {
   "display_name": "Python 3 (ipykernel)",
   "language": "python",
   "name": "python3"
  },
  "language_info": {
   "codemirror_mode": {
    "name": "ipython",
    "version": 3
   },
   "file_extension": ".py",
   "mimetype": "text/x-python",
   "name": "python",
   "nbconvert_exporter": "python",
   "pygments_lexer": "ipython3",
   "version": "3.10.6"
  }
 },
 "nbformat": 4,
 "nbformat_minor": 5
}
