{
 "cells": [
  {
   "cell_type": "markdown",
   "metadata": {},
   "source": [
    "# SBC for the CR model (Augment vs. Insert)"
   ]
  },
  {
   "cell_type": "code",
   "execution_count": 1,
   "metadata": {},
   "outputs": [],
   "source": [
    "import numpy as np\n",
    "import matplotlib.pyplot as plt\n",
    "import seaborn as sns\n",
    "import pandas as pd\n",
    "import tensorflow as tf\n",
    "from tensorflow.keras.layers import LSTM\n",
    "from scipy.stats import binom, norm\n",
    "from scipy.integrate import solve_ivp, dblquad\n",
    "import random\n",
    "\n",
    "from bayesflow.networks import InvertibleNetwork\n",
    "from bayesflow.amortizers import SingleModelAmortizer\n",
    "from bayesflow.trainers import ParameterEstimationTrainer\n",
    "from bayesflow.models import GenerativeModel"
   ]
  },
  {
   "cell_type": "code",
   "execution_count": 2,
   "metadata": {},
   "outputs": [],
   "source": [
    "# ODE model for conversion reaction \n",
    "def prior(batch_size):\n",
    "    \"\"\"\n",
    "    Samples from the prior 'batch_size' times.\n",
    "    ----------\n",
    "    Output:\n",
    "    theta : np.ndarray of shape (batch_size, theta_dim) \n",
    "    \"\"\"    \n",
    "    # Prior range for log-parameters: k_1, k_2 ~ N(-0.75, 0.25²) iid.\n",
    "    p_samples = np.random.normal(-0.75, 0.25, size=(batch_size, 2))\n",
    "    return p_samples.astype(np.float32)\n",
    "   \n",
    "def conversion_reaction(t, x, theta):\n",
    "    theta = 10**theta\n",
    "    return np.array([-theta[0]*x[0]+theta[1]*x[1], theta[0]*x[0]-theta[1]*x[1]])\n",
    "\n",
    "x0 = [1,0]   # initial condition       \n",
    "sigma = 0.015   # noise standard deviation\n",
    "n_obs = 3\n",
    "time_points = np.linspace(0, 10, n_obs)\n",
    "missing_max = 2\n",
    "\n",
    "def batch_simulator_augment01(prior_samples, n_obs):\n",
    "    \"\"\"\n",
    "    Simulate multiple conversion model datasets with missing values and augmentation by zeros/ones\n",
    "    \"\"\"   \n",
    "    n_sim = prior_samples.shape[0]   # batch size \n",
    "    sim_data = np.ones((n_sim, n_obs, 2), dtype=np.float32)   # 1 batch consisting of n_sim datasets, each with n_obs observations\n",
    "    n_missing = np.random.randint(0, missing_max+1, size=n_sim)\n",
    "    \n",
    "    for m in range(n_sim):\n",
    "        theta = 10**prior_samples[m]\n",
    "        s = theta[0] + theta[1]\n",
    "        b = theta[0]/s\n",
    "        state_2 = lambda t: b - b * np.exp(-s*t)\n",
    "        sol = state_2(time_points)\n",
    "        sim_data[m, :, 0] = sol + np.random.normal(0, sigma, size = n_obs)   # observable: y = x_2 + N(0,sigma²) \n",
    "        \n",
    "        # artificially induce missing data\n",
    "        missing_indices = random.sample(range(n_obs), n_missing[m])\n",
    "        sim_data[m][missing_indices] = np.array([0.5, 0.0])  \n",
    "        \n",
    "    return sim_data"
   ]
  },
  {
   "cell_type": "markdown",
   "metadata": {},
   "source": [
    "We build an amortized parameter estimation network."
   ]
  },
  {
   "cell_type": "code",
   "execution_count": 3,
   "metadata": {},
   "outputs": [],
   "source": [
    "bf_meta = {\n",
    "    'n_coupling_layers': 5,\n",
    "    's_args': {\n",
    "        'units': [64, 64, 64],\n",
    "        'activation': 'elu',\n",
    "        'initializer': 'glorot_uniform',\n",
    "    },\n",
    "    't_args': {\n",
    "        'units': [64, 64, 64],\n",
    "        'activation': 'elu',\n",
    "        'initializer': 'glorot_uniform',\n",
    "    },\n",
    "    'n_params': 2\n",
    "}"
   ]
  },
  {
   "cell_type": "markdown",
   "metadata": {},
   "source": [
    "## Generate test data sets"
   ]
  },
  {
   "cell_type": "code",
   "execution_count": 4,
   "metadata": {},
   "outputs": [],
   "source": [
    "n_sbc = 5000\n",
    "n_post_samples_sbc = 250\n",
    "params_sbc = prior(n_sbc)\n",
    "x_augment01 = batch_simulator_augment01(params_sbc, n_obs)"
   ]
  },
  {
   "cell_type": "markdown",
   "metadata": {},
   "source": [
    "## Sample from BayesFlow using the different encodings"
   ]
  },
  {
   "cell_type": "code",
   "execution_count": 5,
   "metadata": {},
   "outputs": [
    {
     "name": "stdout",
     "output_type": "stream",
     "text": [
      "TRAINER INITIALIZATION: No generative model provided. Only offline learning mode is available!\n",
      "Networks loaded from ./CR3_augment01(0.5)_5ACB_[64,64,64]_LSTM(8)_ckpts\\ckpt-300\n",
      "Wall time: 43.2 s\n"
     ]
    }
   ],
   "source": [
    "%%time\n",
    "\n",
    "# Augment by 0/1 (c=0.5)\n",
    "summary_net = LSTM(8)\n",
    "inference_net = InvertibleNetwork(bf_meta)\n",
    "amortizer = SingleModelAmortizer(inference_net, summary_net)\n",
    "ParameterEstimationTrainer(network=amortizer, checkpoint_path='./CR3_augment01(0.5)_5ACB_[64,64,64]_LSTM(8)_ckpts', skip_checks=True)\n",
    "\n",
    "# BayesFlow samples from the learned posterior\n",
    "param_samples_augment01 = amortizer.sample(x_augment01, n_post_samples_sbc)"
   ]
  },
  {
   "cell_type": "code",
   "execution_count": 8,
   "metadata": {},
   "outputs": [
    {
     "name": "stdout",
     "output_type": "stream",
     "text": [
      "TRAINER INITIALIZATION: No generative model provided. Only offline learning mode is available!\n",
      "Networks loaded from ./CR3_insert0.5_5ACB_[64,64,64]_LSTM(8)_ckpts\\ckpt-300\n",
      "Wall time: 43.9 s\n"
     ]
    }
   ],
   "source": [
    "%%time\n",
    "\n",
    "# Insert 0.5\n",
    "summary_net = LSTM(8)\n",
    "inference_net = InvertibleNetwork(bf_meta)\n",
    "amortizer = SingleModelAmortizer(inference_net, summary_net)\n",
    "ParameterEstimationTrainer(network=amortizer, checkpoint_path='./CR3_insert0.5_5ACB_[64,64,64]_LSTM(8)_ckpts', skip_checks=True)\n",
    "\n",
    "x_insert = np.ones((n_sbc, n_obs, 1), dtype=np.float32)\n",
    "for m in range(n_sbc):\n",
    "    x_insert[m, :, 0] = x_augment01[m, :, 0]\n",
    "    \n",
    "# BayesFlow samples from the learned posterior    \n",
    "param_samples_insert = amortizer.sample(x_insert, n_post_samples_sbc)"
   ]
  },
  {
   "cell_type": "markdown",
   "metadata": {},
   "source": [
    "## Plotting method"
   ]
  },
  {
   "cell_type": "code",
   "execution_count": 9,
   "metadata": {},
   "outputs": [],
   "source": [
    "def plot_sbc(axarr, theta_samples, theta_test, param_names, bins=25, interval=0.99):\n",
    "    \"\"\" Plots the simulation-based posterior checking histograms as advocated by Talts et al. (2018). \"\"\"\n",
    "\n",
    "    # Plot settings\n",
    "    N = int(theta_test.shape[0])\n",
    "\n",
    "    # Compute ranks (using broadcasting)    \n",
    "    ranks = np.sum(theta_samples < theta_test[:, np.newaxis, :], axis=1)\n",
    "    \n",
    "    # Compute interval\n",
    "    endpoints = binom.interval(interval, N, 1 / bins)\n",
    "\n",
    "    # Plot histograms\n",
    "    for j in range(len(param_names)):\n",
    "        \n",
    "        # Add interval\n",
    "        axarr[j].axhspan(endpoints[0], endpoints[1], facecolor='gray', alpha=0.3)\n",
    "        axarr[j].axhline(np.mean(endpoints), color='gray', zorder=0, alpha=0.5)\n",
    "        \n",
    "        sns.histplot(ranks[:, j], kde=False, ax=axarr[j], color='#a34f4f', bins=bins, alpha=0.95)\n",
    "        \n",
    "        axarr[j].set_title(param_names[j])\n",
    "        axarr[j].spines['right'].set_visible(False)\n",
    "        axarr[j].spines['top'].set_visible(False)\n",
    "        if j == len(param_names) - 1:\n",
    "            axarr[j].set_xlabel('Rank statistic')\n",
    "        axarr[j].get_yaxis().set_ticks([])\n",
    "        axarr[j].set_ylabel('')"
   ]
  },
  {
   "cell_type": "markdown",
   "metadata": {},
   "source": [
    "## SBC histograms"
   ]
  },
  {
   "cell_type": "code",
   "execution_count": 11,
   "metadata": {},
   "outputs": [
    {
     "data": {
      "image/png": "[encoded data removed]",
      "text/plain": [
       "<Figure size 576x432 with 4 Axes>"
      ]
     },
     "metadata": {
      "needs_background": "light"
     },
     "output_type": "display_data"
    }
   ],
   "source": [
    "fig = plt.figure(figsize=(8, 6), constrained_layout=True)\n",
    "subfigs = fig.subfigures(nrows=1, ncols=2, wspace=0.15)\n",
    "all_axes = [subfig.subplots(nrows=2, ncols=1, gridspec_kw={'wspace': 0}) for subfig in subfigs.ravel()]\n",
    "\n",
    "for ix, (samples, label) in enumerate([\n",
    "    (param_samples_insert, \"Insert $0.5$\"),\n",
    "    (param_samples_augment01, \"Augment by $0/1$ ($c=0.5$)\")\n",
    "]):\n",
    "    axes = all_axes[ix].flat\n",
    "    plot_sbc(axes, samples, params_sbc, [\"$k_1$\", \"$k_2$\"])\n",
    "    subfigs[ix].suptitle(label)\n",
    "    if ix > 0:\n",
    "        for ax in axes:\n",
    "            ax.set_ylabel(None)\n",
    "plt.suptitle(\" \", fontsize=0.1)\n",
    "\n",
    "for fmt in [\"png\", \"pdf\"]:\n",
    "    fig.savefig(f\"figures/CR3_augment_insert_sbc.{fmt}\", dpi=300, bbox_inches='tight')"
   ]
  }
 ],
 "metadata": {
  "kernelspec": {
   "display_name": "Python 3",
   "language": "python",
   "name": "python3"
  },
  "language_info": {
   "codemirror_mode": {
    "name": "ipython",
    "version": 3
   },
   "file_extension": ".py",
   "mimetype": "text/x-python",
   "name": "python",
   "nbconvert_exporter": "python",
   "pygments_lexer": "ipython3",
   "version": "3.7.6"
  }
 },
 "nbformat": 4,
 "nbformat_minor": 5
}
