{
 "cells": [
  {
   "cell_type": "markdown",
   "metadata": {},
   "source": [
    "# Posterior Estimation - Oscillation model"
   ]
  },
  {
   "cell_type": "code",
   "execution_count": 1,
   "metadata": {},
   "outputs": [],
   "source": [
    "import numpy as np\n",
    "import matplotlib.pyplot as plt\n",
    "import seaborn as sns\n",
    "import pandas as pd\n",
    "import tensorflow as tf\n",
    "from tensorflow.keras.layers import LSTM\n",
    "from scipy.stats import norm\n",
    "from scipy.integrate import dblquad\n",
    "import random\n",
    "\n",
    "from bayesflow.networks import InvertibleNetwork\n",
    "from bayesflow.amortizers import SingleModelAmortizer\n",
    "from bayesflow.trainers import ParameterEstimationTrainer\n",
    "from bayesflow.diagnostics import *\n",
    "from bayesflow.models import GenerativeModel"
   ]
  },
  {
   "cell_type": "code",
   "execution_count": 2,
   "metadata": {},
   "outputs": [],
   "source": [
    "%load_ext autoreload\n",
    "%autoreload 2"
   ]
  },
  {
   "cell_type": "markdown",
   "metadata": {},
   "source": [
    "## Simulator settings"
   ]
  },
  {
   "cell_type": "code",
   "execution_count": 3,
   "metadata": {
    "code_folding": [
     23,
     42,
     52
    ]
   },
   "outputs": [],
   "source": [
    "def prior(batch_size):\n",
    "    \"\"\"\n",
    "    Samples from the prior 'batch_size' times.\n",
    "    ----------\n",
    "    Output:\n",
    "    theta : np.ndarray of shape (batch_size, theta_dim) \n",
    "    \"\"\"    \n",
    "    # Prior range: frequency parameter a ~ U(0.1, 1) & shift parameter b ~ N(0, 0.25²)\n",
    "    freq_samples = np.random.uniform(0.1, 1.0, size=(batch_size, 1))\n",
    "    shift_samples = np.random.normal(0.0, 0.25, size=(batch_size, 1))\n",
    "    p_samples = np.c_[freq_samples, shift_samples]\n",
    "    return p_samples.astype(np.float32)\n",
    "\n",
    "\n",
    "# Oscillation model        \n",
    "n_obs = 41  \n",
    "time_points = np.linspace(0, 10, n_obs)\n",
    "sigma = 0.05   # noise standard deviation\n",
    "missing_max = 21\n",
    "\n",
    "\n",
    "def batch_simulator(prior_samples, n_obs):   \n",
    "    \"\"\"\n",
    "    Simulate multiple oscillation model datasets with missing values and augmentation by zeros/ones\n",
    "    \"\"\"    \n",
    "    n_sim = prior_samples.shape[0]   # batch size    \n",
    "    sim_data = np.ones((n_sim, n_obs, 2), dtype=np.float32)   # 1 batch consisting of n_sim datasets, each with n_obs observations  \n",
    "    n_missing = np.random.randint(0, missing_max+1, size=n_sim)\n",
    "    \n",
    "    for m in range(n_sim):\n",
    "        a = prior_samples[m, 0]   # frequency\n",
    "        b = prior_samples[m, 1]   # shift\n",
    "        sim_data[m, :, 0] = np.sin(a*2*np.pi*time_points) + b + np.random.normal(0, sigma, size=n_obs)\n",
    "        \n",
    "        # artificially induce missing data\n",
    "        missing_indices = random.sample(range(n_obs), n_missing[m])\n",
    "        sim_data[m][missing_indices] = np.array([-5.0, 0.0])\n",
    "        \n",
    "    return sim_data   "
   ]
  },
  {
   "cell_type": "markdown",
   "metadata": {},
   "source": [
    "We build an amortized parameter estimation network."
   ]
  },
  {
   "cell_type": "code",
   "execution_count": 4,
   "metadata": {},
   "outputs": [],
   "source": [
    "bf_meta = {\n",
    "    'n_coupling_layers': 5,\n",
    "    's_args': {\n",
    "        'units': [64, 64, 64],\n",
    "        'activation': 'elu',\n",
    "        'initializer': 'glorot_uniform',\n",
    "    },\n",
    "    't_args': {\n",
    "        'units': [64, 64, 64],\n",
    "        'activation': 'elu',\n",
    "        'initializer': 'glorot_uniform',\n",
    "    },\n",
    "    'n_params': 2\n",
    "}"
   ]
  },
  {
   "cell_type": "code",
   "execution_count": 5,
   "metadata": {},
   "outputs": [],
   "source": [
    "summary_net = LSTM(128)\n",
    "inference_net = InvertibleNetwork(bf_meta)\n",
    "amortizer = SingleModelAmortizer(inference_net, summary_net)"
   ]
  },
  {
   "cell_type": "markdown",
   "metadata": {},
   "source": [
    "We connect the prior and simulator through a *GenerativeModel* class which will take care of forward inference."
   ]
  },
  {
   "cell_type": "code",
   "execution_count": 6,
   "metadata": {},
   "outputs": [],
   "source": [
    "generative_model = GenerativeModel(prior, batch_simulator)"
   ]
  },
  {
   "cell_type": "code",
   "execution_count": 7,
   "metadata": {},
   "outputs": [],
   "source": [
    "lr_schedule = tf.keras.optimizers.schedules.ExponentialDecay(\n",
    "    initial_learning_rate=0.001,\n",
    "    decay_steps=2000,\n",
    "    decay_rate=0.95,\n",
    "    staircase=True,\n",
    ")"
   ]
  },
  {
   "cell_type": "code",
   "execution_count": 8,
   "metadata": {},
   "outputs": [
    {
     "name": "stdout",
     "output_type": "stream",
     "text": [
      "Networks loaded from ./Oscillation41_augment01_5ACB_[64,64,64]_LSTM(128)_ckpts\\ckpt-300\n"
     ]
    }
   ],
   "source": [
    "trainer = ParameterEstimationTrainer(\n",
    "    network=amortizer, \n",
    "    generative_model=generative_model,\n",
    "    learning_rate = lr_schedule,\n",
    "    checkpoint_path = './Oscillation41_augment01_5ACB_[64,64,64]_LSTM(128)_ckpts',\n",
    "    max_to_keep=300,\n",
    "    skip_checks=True\n",
    ")"
   ]
  },
  {
   "cell_type": "markdown",
   "metadata": {},
   "source": [
    "### Online training"
   ]
  },
  {
   "cell_type": "code",
   "execution_count": 9,
   "metadata": {},
   "outputs": [
    {
     "data": {
      "application/vnd.jupyter.widget-view+json": {
       "model_id": "b36bf7165d5a4367b0ba9b6b156f07e1",
       "version_major": 2,
       "version_minor": 0
      },
      "text/plain": [
       "Training epoch 1:   0%|          | 0/50 [00:00<?, ?it/s]"
      ]
     },
     "metadata": {},
     "output_type": "display_data"
    },
    {
     "name": "stdout",
     "output_type": "stream",
     "text": [
      "Wall time: 13.6 s\n"
     ]
    }
   ],
   "source": [
    "%%time\n",
    "losses = trainer.train_online(epochs=300, iterations_per_epoch=1000, batch_size=128, n_obs=n_obs)"
   ]
  },
  {
   "cell_type": "markdown",
   "metadata": {},
   "source": [
    "## Computational faithfulness"
   ]
  },
  {
   "cell_type": "code",
   "execution_count": 9,
   "metadata": {},
   "outputs": [],
   "source": [
    "def batch_simulator_analysis(prior_samples, n_obs): \n",
    "    sim_data = np.ones((1, n_obs, 2), dtype=np.float32) \n",
    "    n_missing = np.random.randint(0, missing_max+1)\n",
    "    print(n_missing)\n",
    "    \n",
    "    a = prior_samples[0, 0]   # frequency\n",
    "    b = prior_samples[0, 1]   # shift\n",
    "    data_original = np.sin(a*2*np.pi*time_points) + b + np.random.normal(0, sigma, size=n_obs)\n",
    "    sim_data[0, :, 0] = data_original\n",
    "             \n",
    "    # artificially induce missing data\n",
    "    missing_indices = random.sample(range(n_obs), n_missing)\n",
    "    present_indices = np.setdiff1d(range(n_obs), missing_indices)\n",
    "    sim_data[0][missing_indices] = np.array([-5.0, 0.0])\n",
    "    \n",
    "    # returns original data, present indices, present timepoints, augmented data\n",
    "    return [data_original, present_indices, time_points[present_indices], sim_data] "
   ]
  },
  {
   "cell_type": "code",
   "execution_count": 10,
   "metadata": {},
   "outputs": [
    {
     "name": "stdout",
     "output_type": "stream",
     "text": [
      "14\n"
     ]
    },
    {
     "data": {
      "text/plain": [
       "array([ 0.5083287, -0.1492728], dtype=float32)"
      ]
     },
     "execution_count": 10,
     "metadata": {},
     "output_type": "execute_result"
    }
   ],
   "source": [
    "# Generate new test data and sample using BayesFlow\n",
    "param_prior = prior(1)   \n",
    "result = batch_simulator_analysis(param_prior, n_obs)\n",
    "x_data = result[3]\n",
    "n_post_samples = 7500 \n",
    "param_samples = amortizer.sample(x_data, n_post_samples)   # BayesFlow samples from the learned posterior\n",
    "param_prior[0]"
   ]
  },
  {
   "cell_type": "code",
   "execution_count": 9,
   "metadata": {},
   "outputs": [],
   "source": [
    "# Dataset 1 (n_missing = 15)\n",
    "param_prior = np.array([[0.2, -0.4]])\n",
    "result = [np.array([-0.38822525, -0.07585579,  0.09875853,  0.42901483,  0.48185913,\n",
    "         0.62969871,  0.6457469 ,  0.434365  ,  0.20191629, -0.12380711,\n",
    "        -0.41445603, -0.71438838, -1.10485856, -1.23079156, -1.36338658,\n",
    "        -1.44566409, -1.45376767, -1.25233028, -0.98761422, -0.76457333,\n",
    "        -0.41138701, -0.06165886,  0.19041922,  0.33472721,  0.54920351,\n",
    "         0.63987353,  0.52822556,  0.4772211 ,  0.0992428 , -0.08048652,\n",
    "        -0.37974125, -0.6531358 , -1.05218318, -1.23381172, -1.34811474,\n",
    "        -1.42620643, -1.39496478, -1.15792385, -0.91626909, -0.72581709,\n",
    "        -0.34380109]),\n",
    " np.array([ 0,  1,  2,  3,  4,  5,  6,  9, 11, 13, 14, 16, 17, 19, 20, 24, 25,\n",
    "        27, 28, 29, 30, 31, 33, 36, 37, 39]),\n",
    " np.array([0.  , 0.25, 0.5 , 0.75, 1.  , 1.25, 1.5 , 2.25, 2.75, 3.25, 3.5 ,\n",
    "        4.  , 4.25, 4.75, 5.  , 6.  , 6.25, 6.75, 7.  , 7.25, 7.5 , 7.75,\n",
    "        8.25, 9.  , 9.25, 9.75])]"
   ]
  },
  {
   "cell_type": "code",
   "execution_count": null,
   "metadata": {},
   "outputs": [],
   "source": [
    "# Dataset 2 (n_missing = 20)\n",
    "param_prior = np.array([[0.95, 0.1]])\n",
    "result = [np.array([ 0.0411556 ,  1.08346297,  0.2623786 , -0.92034164, -0.17167728,\n",
    "         1.02610335,  0.54370587, -0.78445069, -0.52135847,  0.85621658,\n",
    "         0.77392383, -0.61739495, -0.73033272,  0.55306994,  1.02138007,\n",
    "        -0.28863467, -0.77016348,  0.38925967,  1.03721564,  0.0408748 ,\n",
    "        -0.91261586, -0.00819852,  1.12443804,  0.37746972, -0.84010395,\n",
    "        -0.32655636,  0.99065733,  0.55809712, -0.67683952, -0.53908892,\n",
    "         0.76198376,  0.88392371, -0.56456167, -0.77304082,  0.58618039,\n",
    "         0.99736459, -0.13568713, -0.96373333,  0.26542047,  1.05570096,\n",
    "         0.07219064]),\n",
    " np.array([ 1,  4,  5,  7,  9, 12, 14, 15, 16, 19, 21, 22, 24, 26, 27, 28, 32,\n",
    "        33, 36, 37, 38]),\n",
    " np.array([0.25, 1.  , 1.25, 1.75, 2.25, 3.  , 3.5 , 3.75, 4.  , 4.75, 5.25,\n",
    "        5.5 , 6.  , 6.5 , 6.75, 7.  , 8.  , 8.25, 9.  , 9.25, 9.5 ])]"
   ]
  },
  {
   "cell_type": "code",
   "execution_count": 10,
   "metadata": {},
   "outputs": [],
   "source": [
    "# Sample using BayesFlow\n",
    "x_data = np.ones((1, n_obs, 2), dtype=np.float32)\n",
    "x_data[0, :, 0] = result[0]\n",
    "missing_indices = np.setdiff1d(range(n_obs), result[1])\n",
    "x_data[0][missing_indices] = np.array([-5.0, 0.0])\n",
    "n_post_samples = 7500 \n",
    "param_samples = amortizer.sample(x_data, n_post_samples)"
   ]
  },
  {
   "cell_type": "code",
   "execution_count": 11,
   "metadata": {},
   "outputs": [
    {
     "data": {
      "image/png": "[encoded data removed]",
      "text/plain": [
       "<Figure size 468x288 with 1 Axes>"
      ]
     },
     "metadata": {
      "needs_background": "light"
     },
     "output_type": "display_data"
    }
   ],
   "source": [
    "# Posterior predictive check\n",
    "time_line = np.linspace(0, 10, 501)\n",
    "fig = plt.figure(figsize=(6.5, 4))\n",
    "plt.rcParams['font.size'] = 12\n",
    "\n",
    "for k in range(301):\n",
    "    a = param_samples[k, 0]   # frequency\n",
    "    b = param_samples[k, 1]   # shift    \n",
    "    if k == 0:\n",
    "        plt.plot(np.array([0]), np.array([0]), color='grey', label='Simulation', linewidth=0.9)\n",
    "    else: \n",
    "        plt.plot(time_line, np.sin(a*2*np.pi*time_line) + b, color='grey', linewidth=0.5, alpha=0.2)\n",
    "\n",
    "a = param_prior[0, 0]   # frequency\n",
    "b = param_prior[0, 1]   # shift\n",
    "plt.plot(time_line, np.sin(a*2*np.pi*time_line) + b, color='black', label='True trajectory')    \n",
    "present_indices = result[1]\n",
    "missing_indices = np.setdiff1d(range(n_obs), present_indices)\n",
    "plt.plot(time_points[present_indices], result[0][present_indices], 'o', color='blue', label='Available data')\n",
    "\n",
    "plt.xlabel('Time $t$', fontsize=14)\n",
    "plt.ylabel('Measurement $y$', fontsize=14)\n",
    "handles, labels = plt.gca().get_legend_handles_labels()\n",
    "order = [1,2,0]\n",
    "plt.legend([handles[idx] for idx in order],[labels[idx] for idx in order], fontsize=12, bbox_to_anchor=(1.4,0.65))\n",
    "plt.show()"
   ]
  }
 ],
 "metadata": {
  "kernelspec": {
   "display_name": "Python 3",
   "language": "python",
   "name": "python3"
  },
  "language_info": {
   "codemirror_mode": {
    "name": "ipython",
    "version": 3
   },
   "file_extension": ".py",
   "mimetype": "text/x-python",
   "name": "python",
   "nbconvert_exporter": "python",
   "pygments_lexer": "ipython3",
   "version": "3.7.6"
  },
  "toc": {
   "base_numbering": 1,
   "nav_menu": {},
   "number_sections": true,
   "sideBar": true,
   "skip_h1_title": false,
   "title_cell": "Table of Contents",
   "title_sidebar": "Contents",
   "toc_cell": false,
   "toc_position": {
    "height": "calc(100% - 180px)",
    "left": "10px",
    "top": "150px",
    "width": "307.2px"
   },
   "toc_section_display": true,
   "toc_window_display": true
  }
 },
 "nbformat": 4,
 "nbformat_minor": 2
}
