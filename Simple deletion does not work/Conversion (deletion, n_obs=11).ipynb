{
 "cells": [
  {
   "cell_type": "markdown",
   "metadata": {},
   "source": [
    "# CR model: Simple deletion of missing values does not work"
   ]
  },
  {
   "cell_type": "code",
   "execution_count": 1,
   "metadata": {},
   "outputs": [],
   "source": [
    "import numpy as np\n",
    "import matplotlib.pyplot as plt\n",
    "import seaborn as sns\n",
    "import pandas as pd\n",
    "import tensorflow as tf\n",
    "from tensorflow.keras.layers import LSTM\n",
    "from scipy.stats import norm\n",
    "from scipy.integrate import solve_ivp, quad, dblquad\n",
    "import random\n",
    "\n",
    "from bayesflow.networks import InvertibleNetwork \n",
    "from bayesflow.amortizers import SingleModelAmortizer\n",
    "from bayesflow.trainers import ParameterEstimationTrainer\n",
    "from bayesflow.models import GenerativeModel"
   ]
  },
  {
   "cell_type": "markdown",
   "metadata": {},
   "source": [
    "## Simulator settings"
   ]
  },
  {
   "cell_type": "code",
   "execution_count": 2,
   "metadata": {
    "code_folding": [
     23,
     42,
     52
    ]
   },
   "outputs": [],
   "source": [
    "def prior(batch_size):\n",
    "    \"\"\"\n",
    "    Samples from the prior 'batch_size' times.\n",
    "    ----------\n",
    "    Output:\n",
    "    theta : np.ndarray of shape (batch_size, theta_dim) \n",
    "    \"\"\"    \n",
    "    # Prior range for log-parameters: k_1, k_2 ~ N(-0.75, 0.25²) iid.\n",
    "    p_samples = np.random.normal(-0.75, 0.25, size=(batch_size, 2))\n",
    "    return p_samples.astype(np.float32)\n",
    "\n",
    "\n",
    "# ODE model for conversion reaction  \n",
    "def conversion_reaction(t, x, theta):\n",
    "    theta = 10**theta\n",
    "    return np.array([-theta[0]*x[0]+theta[1]*x[1], theta[0]*x[0]-theta[1]*x[1]])\n",
    "\n",
    "x0 = [1,0]   # initial condition       \n",
    "sigma = 0.015   # noise standard deviation\n",
    "n_obs = 11\n",
    "time_points = np.linspace(0, 10, n_obs)\n",
    "missing_max = 6"
   ]
  },
  {
   "cell_type": "markdown",
   "metadata": {},
   "source": [
    "We build an amortized parameter estimation network."
   ]
  },
  {
   "cell_type": "code",
   "execution_count": 3,
   "metadata": {},
   "outputs": [],
   "source": [
    "bf_meta = {\n",
    "    'n_coupling_layers': 5,\n",
    "    's_args': {\n",
    "        'units': [64, 64, 64],\n",
    "        'activation': 'elu',\n",
    "        'initializer': 'glorot_uniform',\n",
    "    },\n",
    "    't_args': {\n",
    "        'units': [64, 64, 64],\n",
    "        'activation': 'elu',\n",
    "        'initializer': 'glorot_uniform',\n",
    "    },\n",
    "    'n_params': 2\n",
    "}"
   ]
  },
  {
   "cell_type": "code",
   "execution_count": 4,
   "metadata": {},
   "outputs": [
    {
     "name": "stdout",
     "output_type": "stream",
     "text": [
      "TRAINER INITIALIZATION: No generative model provided. Only offline learning mode is available!\n",
      "Networks loaded from ./CR11_deletion_LSTM(32)_ckpts\\ckpt-300\n"
     ]
    },
    {
     "data": {
      "text/plain": [
       "<bayesflow.trainers.ParameterEstimationTrainer at 0x2226202a388>"
      ]
     },
     "execution_count": 4,
     "metadata": {},
     "output_type": "execute_result"
    }
   ],
   "source": [
    "summary_net = LSTM(32)\n",
    "inference_net = InvertibleNetwork(bf_meta)\n",
    "amortizer = SingleModelAmortizer(inference_net, summary_net)\n",
    "ParameterEstimationTrainer(network=amortizer, checkpoint_path='./CR11_deletion_LSTM(32)_ckpts', skip_checks=True)"
   ]
  },
  {
   "cell_type": "markdown",
   "metadata": {},
   "source": [
    "## Computational faithfulness"
   ]
  },
  {
   "cell_type": "code",
   "execution_count": 5,
   "metadata": {},
   "outputs": [],
   "source": [
    "# Test data\n",
    "param_prior = np.array([[-0.86260146, -1.0050269 ]])\n",
    "result = [np.array([0.0245038 , 0.15066826, 0.21434814, 0.29709688, 0.34549964, 0.40176989, 0.43488455, 0.48059312, 0.48788007, 0.49382139,\n",
    "                    0.51334028]),\n",
    "          np.array([ 0,  1,  3,  5,  6,  7,  9, 10]),\n",
    "          np.array([ 0.,  1.,  3.,  5.,  6.,  7.,  9., 10.])]\n",
    "\n",
    "n_present = len(result[1])\n",
    "x_data = np.ones((1, n_present, 1), dtype=np.float32)\n",
    "x_data[0, :, 0] = result[0][result[1]]\n",
    "\n",
    "# Sample from BayesFlow\n",
    "n_post_samples = 2000   \n",
    "param_samples = amortizer.sample(x_data, n_post_samples)   "
   ]
  },
  {
   "cell_type": "code",
   "execution_count": 6,
   "metadata": {},
   "outputs": [],
   "source": [
    "def plot_marginal(ax, result, param_samples):  \n",
    "    \n",
    "    def prior_eval(x,y):   \n",
    "        # Evaluates prior probability p(theta) according to k_1, k_2 ~ N(-0.75, 0.25²) iid.\n",
    "        return norm.pdf(x,-0.75,0.25) * norm.pdf(y,-0.75,0.25)\n",
    "\n",
    "    def likelihood(x,y):   \n",
    "        # Calculates likelihood of available data\n",
    "        x = 10**x\n",
    "        y = 10**y\n",
    "        s = x + y\n",
    "        b = x/s\n",
    "        state_2 = lambda t: b - b * np.exp(-s*t)\n",
    "        sol = state_2(result[2])\n",
    "        residual = (result[0][result[1]] - sol)/sigma\n",
    "        nllh = np.sum(np.log(2*np.pi*sigma**2)+residual**2)/2\n",
    "        return np.exp(-nllh)\n",
    "\n",
    "    def unnormalized_posterior(x,y):   \n",
    "        # Evaluates the unnormalized posterior probability according to Bayes' formula\n",
    "        return likelihood(x,y) * prior_eval(x,y)\n",
    "\n",
    "    # scaling factor\n",
    "    scaling_factor = dblquad(unnormalized_posterior, -2.25, 0.75, lambda y: -2.25, lambda y: 0.75)\n",
    "    posterior_xy = lambda x,y: unnormalized_posterior(x,y)/scaling_factor[0]\n",
    "    \n",
    "    # Compute marginal densities\n",
    "    grid = 201\n",
    "    A = np.linspace(-1.05, -0.45, grid)\n",
    "    B = np.linspace(-1.45, -0.35, grid)\n",
    "    bounds = np.array([-2.25, 0.75, -2.25, 0.75])\n",
    "    \n",
    "    ax[0].hist(param_samples[:, 0], bins='auto', density=1, color='orange', label='BayesFlow')\n",
    "    marginal_x = np.zeros(grid)\n",
    "    for i in range(grid):\n",
    "        x = A[i]\n",
    "        integrand_y = lambda y: posterior_xy(x, y)\n",
    "        marginal_x[i] = quad(integrand_y, bounds[2], bounds[3])[0]\n",
    "    ax[0].plot(A, marginal_x, label='True posterior')\n",
    "    ax[0].set_ylabel('Marginal density')\n",
    "    ax[0].set_xlabel('Parameter $k_1$')\n",
    "    handles, labels = ax[0].get_legend_handles_labels()\n",
    "    order = [1,0]\n",
    "    ax[0].legend([handles[idx] for idx in order],[labels[idx] for idx in order])\n",
    "    ax[0].set_title('                                                      Posterior distribution', loc='center', pad=6) \n",
    "\n",
    "    ax[1].hist(param_samples[:, 1], bins='auto', density=1, color='orange')\n",
    "    marginal_y = np.zeros(grid)\n",
    "    for j in range(grid):\n",
    "        y = B[j]\n",
    "        integrand_x = lambda x: posterior_xy(x, y)\n",
    "        marginal_y[j] = quad(integrand_x, bounds[0], bounds[1])[0]\n",
    "    ax[1].plot(B, marginal_y)\n",
    "    ax[1].set_xlabel('Parameter $k_2$')"
   ]
  },
  {
   "cell_type": "code",
   "execution_count": 7,
   "metadata": {},
   "outputs": [],
   "source": [
    "def predictive_check(ax, param_prior, result, param_samples, n_sim=101):\n",
    "\n",
    "    for k in range(n_sim):\n",
    "        rhs = lambda t,x: conversion_reaction(t, x, param_samples[k])\n",
    "        sol = solve_ivp(rhs, t_span = (0,10), y0 = x0, atol = 1e-9, rtol = 1e-6)   \n",
    "        if k == 0:\n",
    "            ax.plot(np.array([0]), np.array([0]), color='grey', label='Simulation', linewidth=0.9)\n",
    "        else: \n",
    "            ax.plot(sol.t, sol.y[1], color='grey', linewidth=0.5, alpha=0.3)\n",
    "                \n",
    "    rhs = lambda t,x: conversion_reaction(t, x, param_prior[0])\n",
    "    sol = solve_ivp(rhs, t_span = (0,10), y0 = x0, atol = 1e-9, rtol = 1e-6)\n",
    "    ax.plot(sol.t, sol.y[1], color='black', label='True trajectory')    \n",
    "    \n",
    "    present_indices = result[1]\n",
    "    missing_indices = np.setdiff1d(range(n_obs), present_indices)\n",
    "    ax.plot(time_points[present_indices], result[0][present_indices], 'o', label='Available data')\n",
    "    \n",
    "    ax.set_xlabel('Time $t$')\n",
    "    ax.set_ylabel(\"Measurement $y$\")\n",
    "    ax.set_title('Posterior predictive check', loc='center', pad=6)\n",
    "    handles, labels = ax.get_legend_handles_labels()\n",
    "    order = [1,2,0]\n",
    "    ax.legend([handles[idx] for idx in order],[labels[idx] for idx in order])"
   ]
  },
  {
   "cell_type": "code",
   "execution_count": 8,
   "metadata": {},
   "outputs": [
    {
     "data": {
      "image/png": "[encoded data removed]",
      "text/plain": [
       "<Figure size 864x252 with 3 Axes>"
      ]
     },
     "metadata": {
      "needs_background": "light"
     },
     "output_type": "display_data"
    }
   ],
   "source": [
    "fig, ax = plt.subplots(1, 3, figsize=((12, 3.5)))\n",
    "\n",
    "plot_marginal(ax[0:2], result, param_samples)\n",
    "predictive_check(ax[2], param_prior, result, param_samples)\n",
    "fig.savefig(\"figures/deletion.png\", dpi=300, bbox_inches='tight') \n",
    "fig.savefig(\"figures/deletion.pdf\", bbox_inches='tight')"
   ]
  }
 ],
 "metadata": {
  "kernelspec": {
   "display_name": "Python 3",
   "language": "python",
   "name": "python3"
  },
  "language_info": {
   "codemirror_mode": {
    "name": "ipython",
    "version": 3
   },
   "file_extension": ".py",
   "mimetype": "text/x-python",
   "name": "python",
   "nbconvert_exporter": "python",
   "pygments_lexer": "ipython3",
   "version": "3.7.6"
  },
  "toc": {
   "base_numbering": 1,
   "nav_menu": {},
   "number_sections": true,
   "sideBar": true,
   "skip_h1_title": false,
   "title_cell": "Table of Contents",
   "title_sidebar": "Contents",
   "toc_cell": false,
   "toc_position": {
    "height": "calc(100% - 180px)",
    "left": "10px",
    "top": "150px",
    "width": "307.2px"
   },
   "toc_section_display": true,
   "toc_window_display": true
  }
 },
 "nbformat": 4,
 "nbformat_minor": 2
}
