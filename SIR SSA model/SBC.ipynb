{
 "cells": [
  {
   "cell_type": "markdown",
   "metadata": {},
   "source": [
    "# SBC for the Stochastic SIR model"
   ]
  },
  {
   "cell_type": "code",
   "execution_count": 1,
   "metadata": {},
   "outputs": [],
   "source": [
    "import numpy as np\n",
    "import matplotlib.pyplot as plt\n",
    "import seaborn as sns\n",
    "import pandas as pd\n",
    "import tensorflow as tf\n",
    "from tensorflow.keras.layers import LSTM\n",
    "from scipy.stats import binom\n",
    "import random\n",
    "\n",
    "from bayesflow.networks import InvertibleNetwork\n",
    "from bayesflow.amortizers import SingleModelAmortizer\n",
    "from bayesflow.trainers import ParameterEstimationTrainer\n",
    "from bayesflow.models import GenerativeModel"
   ]
  },
  {
   "cell_type": "code",
   "execution_count": 2,
   "metadata": {},
   "outputs": [],
   "source": [
    "low_beta = 0.01 \n",
    "high_beta = 1. \n",
    "low_gamma = 0.\n",
    "\n",
    "def prior(batch_size):\n",
    "    \"\"\"\n",
    "    Samples from the prior 'batch_size' times.\n",
    "    ----------\n",
    "    Output:\n",
    "    theta : np.ndarray of shape (batch_size, theta_dim) \n",
    "    \"\"\"    \n",
    "    # Prior range for rate parameters: \n",
    "    beta_samples = np.random.uniform(low=low_beta, high=high_beta, size=batch_size)\n",
    "    gamma_samples = np.random.uniform(low=low_gamma, high=beta_samples)\n",
    "    p_samples = np.c_[beta_samples, gamma_samples]\n",
    "    return p_samples.astype(np.float32)\n",
    "\n",
    "N = 1000   # population size\n",
    "u0 = [N-1,1,0]   # initial state  \n",
    "iota = 0.5 \n",
    "dt = 0.1   # time step\n",
    "n_dt = 500   # number of simulation time steps\n",
    "t_end = n_dt * dt\n",
    "n_obs = 21   # number of observations\n",
    "time_points = np.linspace(0, t_end, n_obs)\n",
    "missing_max = 15\n",
    "\n",
    "def simulate_sir_single(beta, gamma):\n",
    "    \"\"\"Simulates a single SIR process.\"\"\"\n",
    "    \n",
    "    def sir_equation(u):\n",
    "        \"\"\"Implements the stochastic SIR equations.\"\"\"\n",
    "        S, I, R = u\n",
    "        lambd = beta *(I+iota)/N\n",
    "        ifrac = 1.0 - np.exp(-lambd*dt)\n",
    "        rfrac = 1.0 - np.exp(-gamma*dt)\n",
    "        infection = np.random.binomial(S, ifrac)\n",
    "        recovery = np.random.binomial(I, rfrac)\n",
    "        return [S-infection, I+infection-recovery, R+recovery]\n",
    "    \n",
    "    S = np.zeros(n_obs)\n",
    "    I = np.zeros(n_obs)\n",
    "    R = np.zeros(n_obs)\n",
    "    u = u0\n",
    "    S[0], I[0], R[0] = u\n",
    "    \n",
    "    for j in range(1, n_dt+1):\n",
    "        u = sir_equation(u)\n",
    "        if j % 25 == 0:\n",
    "            i = j//25\n",
    "            S[i], I[i], R[i] = u\n",
    "        \n",
    "    return np.array([S, I, R]).T/N\n",
    "\n",
    "def batch_simulator_augment01(prior_samples, n_obs):  \n",
    "    \"\"\"\n",
    "    Simulate multiple SIR model data sets with missing values and binary indicator augmentation\n",
    "    \"\"\"    \n",
    "    n_sim = prior_samples.shape[0]   # batch size    \n",
    "    sim_data = np.ones((n_sim, n_obs, 4), dtype=np.float32)  # 1 batch consisting of n_sim data sets, each with n_obs observations\n",
    "    n_missing = np.random.randint(0, missing_max + 1, size=n_sim)\n",
    "    \n",
    "    for m in range(n_sim):\n",
    "        sim_data[m, :, 0:3] = simulate_sir_single(prior_samples[m, 0], prior_samples[m, 1])\n",
    "\n",
    "        # artificially induce missing data\n",
    "        missing_indices = random.sample(range(n_obs), n_missing[m])\n",
    "        sim_data[m][missing_indices] = np.array([-1.0, -1.0, -1.0, 0.0])\n",
    "        \n",
    "    return sim_data"
   ]
  },
  {
   "cell_type": "markdown",
   "metadata": {},
   "source": [
    "We build an amortized parameter estimation network."
   ]
  },
  {
   "cell_type": "code",
   "execution_count": 3,
   "metadata": {},
   "outputs": [],
   "source": [
    "bf_meta = {\n",
    "    'n_coupling_layers': 5,\n",
    "    's_args': {\n",
    "        'units': [64, 64, 64],\n",
    "        'activation': 'elu',\n",
    "        'initializer': 'glorot_uniform',\n",
    "    },\n",
    "    't_args': {\n",
    "        'units': [64, 64, 64],\n",
    "        'activation': 'elu',\n",
    "        'initializer': 'glorot_uniform',\n",
    "    },\n",
    "    'n_params': 2\n",
    "}"
   ]
  },
  {
   "cell_type": "markdown",
   "metadata": {},
   "source": [
    "## Generate test data sets"
   ]
  },
  {
   "cell_type": "code",
   "execution_count": 4,
   "metadata": {},
   "outputs": [],
   "source": [
    "n_sbc = 5000\n",
    "n_post_samples_sbc = 250\n",
    "params_sbc = prior(n_sbc)\n",
    "x_augment01 = batch_simulator_augment01(params_sbc, n_obs)"
   ]
  },
  {
   "cell_type": "markdown",
   "metadata": {},
   "source": [
    "## Sample from BayesFlow using the different encodings"
   ]
  },
  {
   "cell_type": "code",
   "execution_count": 5,
   "metadata": {},
   "outputs": [
    {
     "name": "stdout",
     "output_type": "stream",
     "text": [
      "TRAINER INITIALIZATION: No generative model provided. Only offline learning mode is available!\n",
      "Networks loaded from ./SIR_stoch_augment01_5ACB_[64,64,64]_LSTM(128)_ckpts\\ckpt-300\n",
      "Wall time: 58.6 s\n"
     ]
    }
   ],
   "source": [
    "%%time\n",
    "\n",
    "# Augment by 0/1\n",
    "summary_net = LSTM(128)\n",
    "inference_net = InvertibleNetwork(bf_meta)\n",
    "amortizer = SingleModelAmortizer(inference_net, summary_net)\n",
    "ParameterEstimationTrainer(network=amortizer, checkpoint_path='./SIR_stoch_augment01_5ACB_[64,64,64]_LSTM(128)_ckpts', skip_checks=True)\n",
    "\n",
    "# BayesFlow samples from the learned posterior\n",
    "param_samples_augment01 = amortizer.sample(x_augment01, n_post_samples_sbc)"
   ]
  },
  {
   "cell_type": "code",
   "execution_count": 7,
   "metadata": {},
   "outputs": [
    {
     "name": "stdout",
     "output_type": "stream",
     "text": [
      "TRAINER INITIALIZATION: No generative model provided. Only offline learning mode is available!\n",
      "Networks loaded from ./SIR_stoch_insert-1_5ACB_[64,64,64]_LSTM(128)_ckpts\\ckpt-300\n",
      "Wall time: 55.9 s\n"
     ]
    }
   ],
   "source": [
    "%%time\n",
    "\n",
    "# Insert -1\n",
    "summary_net = LSTM(128)\n",
    "inference_net = InvertibleNetwork(bf_meta)\n",
    "amortizer = SingleModelAmortizer(inference_net, summary_net)\n",
    "ParameterEstimationTrainer(network=amortizer, checkpoint_path='./SIR_stoch_insert-1_5ACB_[64,64,64]_LSTM(128)_ckpts', skip_checks=True)\n",
    "\n",
    "x_insert = np.ones((n_sbc, n_obs, 3), dtype=np.float32)\n",
    "for m in range(n_sbc):\n",
    "    x_insert[m, :, 0:3] = x_augment01[m, :, 0:3]\n",
    "    \n",
    "# BayesFlow samples from the learned posterior    \n",
    "param_samples_insert = amortizer.sample(x_insert, n_post_samples_sbc)"
   ]
  },
  {
   "cell_type": "code",
   "execution_count": 9,
   "metadata": {},
   "outputs": [
    {
     "name": "stdout",
     "output_type": "stream",
     "text": [
      "TRAINER INITIALIZATION: No generative model provided. Only offline learning mode is available!\n",
      "Networks loaded from ./SIR_stoch_timelabels_5ACB_[64,64,64]_LSTM(128)_ckpts\\ckpt-300\n",
      "Wall time: 8min 15s\n"
     ]
    }
   ],
   "source": [
    "%%time\n",
    "\n",
    "# Time labels\n",
    "summary_net = LSTM(128)\n",
    "inference_net = InvertibleNetwork(bf_meta)\n",
    "amortizer = SingleModelAmortizer(inference_net, summary_net)\n",
    "ParameterEstimationTrainer(network=amortizer, checkpoint_path='./SIR_stoch_timelabels_5ACB_[64,64,64]_LSTM(128)_ckpts', skip_checks=True)\n",
    "\n",
    "# BayesFlow samples from the learned posterior\n",
    "param_samples_time = np.empty((n_sbc, n_post_samples_sbc, 2), dtype=np.float32)\n",
    "for m in range(n_sbc):\n",
    "    x = x_augment01[m, :, 3]\n",
    "    present_indices = np.where(x == 1.)[0]\n",
    "    x_time = np.empty((1, len(present_indices), 4), dtype=np.float32)\n",
    "    x_time[0, :, 0:3] = x_augment01[m, present_indices, 0:3]\n",
    "    x_time[0, :, 3] = time_points[present_indices]/t_end\n",
    "    param_samples_time[m] = amortizer.sample(x_time, n_post_samples_sbc)"
   ]
  },
  {
   "cell_type": "markdown",
   "metadata": {},
   "source": [
    "## Plotting method"
   ]
  },
  {
   "cell_type": "code",
   "execution_count": 10,
   "metadata": {},
   "outputs": [],
   "source": [
    "def plot_sbc(axarr, theta_samples, theta_test, param_names, bins=25, interval=0.99):\n",
    "    \"\"\" Plots the simulation-based posterior checking histograms as advocated by Talts et al. (2018). \"\"\"\n",
    "\n",
    "    # Plot settings\n",
    "    N = int(theta_test.shape[0])\n",
    "\n",
    "    # Compute ranks (using broadcasting)    \n",
    "    ranks = np.sum(theta_samples < theta_test[:, np.newaxis, :], axis=1)\n",
    "    \n",
    "    # Compute interval\n",
    "    endpoints = binom.interval(interval, N, 1 / bins)\n",
    "\n",
    "    # Plot histograms\n",
    "    for j in range(len(param_names)):\n",
    "        \n",
    "        # Add interval\n",
    "        axarr[j].axhspan(endpoints[0], endpoints[1], facecolor='gray', alpha=0.3)\n",
    "        axarr[j].axhline(np.mean(endpoints), color='gray', zorder=0, alpha=0.5)\n",
    "        \n",
    "        sns.histplot(ranks[:, j], kde=False, ax=axarr[j], color='#a34f4f', bins=bins, alpha=0.95)\n",
    "        \n",
    "        axarr[j].set_title(param_names[j])\n",
    "        axarr[j].spines['right'].set_visible(False)\n",
    "        axarr[j].spines['top'].set_visible(False)\n",
    "        if j == len(param_names) - 1:\n",
    "            axarr[j].set_xlabel('Rank statistic')\n",
    "        axarr[j].get_yaxis().set_ticks([])\n",
    "        axarr[j].set_ylabel('')"
   ]
  },
  {
   "cell_type": "markdown",
   "metadata": {},
   "source": [
    "## SBC histograms"
   ]
  },
  {
   "cell_type": "code",
   "execution_count": 16,
   "metadata": {},
   "outputs": [
    {
     "data": {
      "image/png": "[encoded data removed]",
      "text/plain": [
       "<Figure size 864x432 with 6 Axes>"
      ]
     },
     "metadata": {
      "needs_background": "light"
     },
     "output_type": "display_data"
    }
   ],
   "source": [
    "fig = plt.figure(figsize=(12, 6), constrained_layout=True)\n",
    "subfigs = fig.subfigures(nrows=1, ncols=3, wspace=0.15)\n",
    "all_axes = [subfig.subplots(nrows=2, ncols=1, gridspec_kw={'wspace': 0}) for subfig in subfigs.ravel()]\n",
    "\n",
    "for ix, (samples, label) in enumerate([\n",
    "    (param_samples_insert, \"Insert $-1$\"),\n",
    "    (param_samples_augment01, \"Augment by $0/1$\"),\n",
    "    (param_samples_time, \"Time labels\")\n",
    "]):\n",
    "    axes = all_axes[ix].flat\n",
    "    plot_sbc(axes, samples, params_sbc, [r'$\\beta$', r'$\\gamma$'])\n",
    "    subfigs[ix].suptitle(label)\n",
    "    if ix > 0:\n",
    "        for ax in axes:\n",
    "            ax.set_ylabel(None)\n",
    "plt.suptitle(\" \", fontsize=0.1)\n",
    "\n",
    "for fmt in [\"png\", \"pdf\"]:\n",
    "    fig.savefig(f\"figures/SIR_stoch_sbc.{fmt}\", dpi=300, bbox_inches='tight')"
   ]
  }
 ],
 "metadata": {
  "kernelspec": {
   "display_name": "Python 3",
   "language": "python",
   "name": "python3"
  },
  "language_info": {
   "codemirror_mode": {
    "name": "ipython",
    "version": 3
   },
   "file_extension": ".py",
   "mimetype": "text/x-python",
   "name": "python",
   "nbconvert_exporter": "python",
   "pygments_lexer": "ipython3",
   "version": "3.7.6"
  }
 },
 "nbformat": 4,
 "nbformat_minor": 5
}
