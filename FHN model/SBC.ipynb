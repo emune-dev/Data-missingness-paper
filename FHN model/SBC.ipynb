{
 "cells": [
  {
   "cell_type": "markdown",
   "metadata": {},
   "source": [
    "# SBC for the FHN model"
   ]
  },
  {
   "cell_type": "code",
   "execution_count": 1,
   "metadata": {},
   "outputs": [],
   "source": [
    "import numpy as np\n",
    "import matplotlib.pyplot as plt\n",
    "import seaborn as sns\n",
    "import pandas as pd\n",
    "import tensorflow as tf\n",
    "from tensorflow.keras.layers import LSTM\n",
    "from scipy import integrate\n",
    "from scipy.stats import binom, norm\n",
    "import random\n",
    "\n",
    "from bayesflow.networks import InvertibleNetwork\n",
    "from bayesflow.amortizers import SingleModelAmortizer\n",
    "from bayesflow.trainers import ParameterEstimationTrainer\n",
    "from bayesflow.models import GenerativeModel"
   ]
  },
  {
   "cell_type": "code",
   "execution_count": 2,
   "metadata": {},
   "outputs": [],
   "source": [
    "def prior(batch_size):\n",
    "    \"\"\"\n",
    "    Samples from the prior 'batch_size' times.\n",
    "    ----------\n",
    "    Output:\n",
    "    theta : np.ndarray of shape (batch_size, theta_dim) \n",
    "    \"\"\"    \n",
    "    # Prior range for log-parameters:\n",
    "    p_samples = np.random.uniform(low=-2, high=0, size=(batch_size, 3))\n",
    "    return p_samples.astype(np.float32)\n",
    "\n",
    "# ODE model \n",
    "def fhn_dynamics(t, x, theta):\n",
    "    theta = 10**theta\n",
    "    return np.array([theta[2]*(x[0]-1/3*x[0]**3+x[1]), -1/theta[2]*(x[0]-theta[0]+theta[1]*x[1])])\n",
    "\n",
    "x0 = [-1, 1]\n",
    "n_obs = 21 \n",
    "t_end = 15\n",
    "time_points = np.linspace(0, t_end, n_obs)\n",
    "sigma = 0.05   # noise standard deviation\n",
    "missing_max = 11\n",
    "\n",
    "def batch_simulator_augment01(prior_samples, n_obs):\n",
    "    \"\"\"\n",
    "    Simulate a batch of FHN data sets with missing values and binary indicator augmentation\n",
    "    \"\"\"    \n",
    "    n_sim = prior_samples.shape[0]   # batch size \n",
    "    sim_data = np.ones((n_sim, n_obs, 2), dtype=np.float32)   # 1 batch consisting of n_sim data sets, each with n_obs observations\n",
    "    n_missing = np.random.randint(0, missing_max + 1, size=n_sim)\n",
    "\n",
    "    for m in range(n_sim):\n",
    "        rhs = lambda x,t: fhn_dynamics(t, x, prior_samples[m])\n",
    "        sol = integrate.odeint(rhs, x0, time_points) \n",
    "        sim_data[m, :, 0] = sol[:,0] + np.random.normal(0, sigma, size=n_obs)\n",
    "\n",
    "        # artificially induce missing data\n",
    "        missing_indices = random.sample(range(n_obs), n_missing[m])\n",
    "        sim_data[m][missing_indices] = np.array([-5.0, 0.0])\n",
    "    \n",
    "    return sim_data "
   ]
  },
  {
   "cell_type": "markdown",
   "metadata": {},
   "source": [
    "We build an amortized parameter estimation network."
   ]
  },
  {
   "cell_type": "code",
   "execution_count": 3,
   "metadata": {},
   "outputs": [],
   "source": [
    "bf_meta = {\n",
    "    'n_coupling_layers': 5,\n",
    "    's_args': {\n",
    "        'units': [64, 64, 64],\n",
    "        'activation': 'elu',\n",
    "        'initializer': 'glorot_uniform',\n",
    "    },\n",
    "    't_args': {\n",
    "        'units': [64, 64, 64],\n",
    "        'activation': 'elu',\n",
    "        'initializer': 'glorot_uniform',\n",
    "    },\n",
    "    'n_params': 3\n",
    "}"
   ]
  },
  {
   "cell_type": "markdown",
   "metadata": {},
   "source": [
    "## Generate test data sets"
   ]
  },
  {
   "cell_type": "code",
   "execution_count": 4,
   "metadata": {},
   "outputs": [],
   "source": [
    "n_sbc = 5000\n",
    "n_post_samples_sbc = 250\n",
    "params_sbc = prior(n_sbc)\n",
    "x_augment01 = batch_simulator_augment01(params_sbc, n_obs)"
   ]
  },
  {
   "cell_type": "markdown",
   "metadata": {},
   "source": [
    "## Sample from BayesFlow using the different encodings"
   ]
  },
  {
   "cell_type": "code",
   "execution_count": 5,
   "metadata": {},
   "outputs": [
    {
     "name": "stdout",
     "output_type": "stream",
     "text": [
      "TRAINER INITIALIZATION: No generative model provided. Only offline learning mode is available!\n",
      "Networks loaded from ./FHN_augment01_5ACB_[64,64,64]_LSTM(64)_ckpts\\ckpt-300\n",
      "Wall time: 48.2 s\n"
     ]
    }
   ],
   "source": [
    "%%time\n",
    "\n",
    "# Augment by 0/1\n",
    "summary_net = LSTM(64)\n",
    "inference_net = InvertibleNetwork(bf_meta)\n",
    "amortizer = SingleModelAmortizer(inference_net, summary_net)\n",
    "ParameterEstimationTrainer(network=amortizer, checkpoint_path='./FHN_augment01_5ACB_[64,64,64]_LSTM(64)_ckpts', skip_checks=True)\n",
    "\n",
    "# BayesFlow samples from the learned posterior\n",
    "param_samples_augment01 = amortizer.sample(x_augment01, n_post_samples_sbc)"
   ]
  },
  {
   "cell_type": "code",
   "execution_count": 7,
   "metadata": {},
   "outputs": [
    {
     "name": "stdout",
     "output_type": "stream",
     "text": [
      "TRAINER INITIALIZATION: No generative model provided. Only offline learning mode is available!\n",
      "Networks loaded from ./FHN_insert-5_5ACB_[64,64,64]_LSTM(64)_ckpts\\ckpt-300\n",
      "Wall time: 45.5 s\n"
     ]
    }
   ],
   "source": [
    "%%time\n",
    "\n",
    "# Insert -5\n",
    "summary_net = LSTM(64)\n",
    "inference_net = InvertibleNetwork(bf_meta)\n",
    "amortizer = SingleModelAmortizer(inference_net, summary_net)\n",
    "ParameterEstimationTrainer(network=amortizer, checkpoint_path='./FHN_insert-5_5ACB_[64,64,64]_LSTM(64)_ckpts', skip_checks=True)\n",
    "\n",
    "x_insert = np.ones((n_sbc, n_obs, 1), dtype=np.float32)\n",
    "for m in range(n_sbc):\n",
    "    x_insert[m, :, 0] = x_augment01[m, :, 0]\n",
    "    \n",
    "# BayesFlow samples from the learned posterior    \n",
    "param_samples_insert = amortizer.sample(x_insert, n_post_samples_sbc)"
   ]
  },
  {
   "cell_type": "code",
   "execution_count": 9,
   "metadata": {},
   "outputs": [
    {
     "name": "stdout",
     "output_type": "stream",
     "text": [
      "TRAINER INITIALIZATION: No generative model provided. Only offline learning mode is available!\n",
      "Networks loaded from ./FHN_timelabels_5ACB_[64,64,64]_LSTM(64)_ckpts\\ckpt-300\n",
      "Wall time: 8min\n"
     ]
    }
   ],
   "source": [
    "%%time\n",
    "\n",
    "# Time labels\n",
    "summary_net = LSTM(64)\n",
    "inference_net = InvertibleNetwork(bf_meta)\n",
    "amortizer = SingleModelAmortizer(inference_net, summary_net)\n",
    "ParameterEstimationTrainer(network=amortizer, checkpoint_path='./FHN_timelabels_5ACB_[64,64,64]_LSTM(64)_ckpts', skip_checks=True)\n",
    "\n",
    "# BayesFlow samples from the learned posterior\n",
    "param_samples_time = np.empty((n_sbc, n_post_samples_sbc, 3), dtype=np.float32)\n",
    "for m in range(n_sbc):\n",
    "    x = x_augment01[m, :, 1]\n",
    "    present_indices = np.where(x == 1.)[0]\n",
    "    x_time = np.empty((1, len(present_indices), 2), dtype=np.float32)\n",
    "    x_time[0, :, 0] = x_augment01[m, present_indices, 0]\n",
    "    x_time[0, :, 1] = time_points[present_indices]\n",
    "    param_samples_time[m] = amortizer.sample(x_time, n_post_samples_sbc)"
   ]
  },
  {
   "cell_type": "markdown",
   "metadata": {},
   "source": [
    "## Plotting method"
   ]
  },
  {
   "cell_type": "code",
   "execution_count": 10,
   "metadata": {},
   "outputs": [],
   "source": [
    "def plot_sbc(axarr, theta_samples, theta_test, param_names, bins=25, interval=0.99):\n",
    "    \"\"\" Plots the simulation-based posterior checking histograms as advocated by Talts et al. (2018). \"\"\"\n",
    "\n",
    "    # Plot settings\n",
    "    N = int(theta_test.shape[0])\n",
    "\n",
    "    # Compute ranks (using broadcasting)    \n",
    "    ranks = np.sum(theta_samples < theta_test[:, np.newaxis, :], axis=1)\n",
    "    \n",
    "    # Compute interval\n",
    "    endpoints = binom.interval(interval, N, 1 / bins)\n",
    "\n",
    "    # Plot histograms\n",
    "    for j in range(len(param_names)):\n",
    "        \n",
    "        # Add interval\n",
    "        axarr[j].axhspan(endpoints[0], endpoints[1], facecolor='gray', alpha=0.3)\n",
    "        axarr[j].axhline(np.mean(endpoints), color='gray', zorder=0, alpha=0.5)\n",
    "        \n",
    "        sns.histplot(ranks[:, j], kde=False, ax=axarr[j], color='#a34f4f', bins=bins, alpha=0.95)\n",
    "        \n",
    "        axarr[j].set_title(param_names[j])\n",
    "        axarr[j].spines['right'].set_visible(False)\n",
    "        axarr[j].spines['top'].set_visible(False)\n",
    "        if j == len(param_names) - 1:\n",
    "            axarr[j].set_xlabel('Rank statistic')\n",
    "        axarr[j].get_yaxis().set_ticks([])\n",
    "        axarr[j].set_ylabel('')"
   ]
  },
  {
   "cell_type": "markdown",
   "metadata": {},
   "source": [
    "## SBC histograms"
   ]
  },
  {
   "cell_type": "code",
   "execution_count": 11,
   "metadata": {},
   "outputs": [
    {
     "data": {
      "image/png": "[encoded data removed]",
      "text/plain": [
       "<Figure size 864x612 with 9 Axes>"
      ]
     },
     "metadata": {
      "needs_background": "light"
     },
     "output_type": "display_data"
    }
   ],
   "source": [
    "fig = plt.figure(figsize=(12, 8.5), constrained_layout=True)\n",
    "subfigs = fig.subfigures(nrows=1, ncols=3, wspace=0.15)\n",
    "all_axes = [subfig.subplots(nrows=3, ncols=1, gridspec_kw={'wspace': 0}) for subfig in subfigs.ravel()]\n",
    "\n",
    "for ix, (samples, label) in enumerate([\n",
    "    (param_samples_insert, \"Insert $-5$\"),\n",
    "    (param_samples_augment01, \"Augment by $0/1$\"),\n",
    "    (param_samples_time, \"Time labels\")\n",
    "]):\n",
    "    axes = all_axes[ix].flat\n",
    "    plot_sbc(axes, samples, params_sbc, [\"$a$\", \"$b$\", \"$g$\"])\n",
    "    subfigs[ix].suptitle(label)\n",
    "    if ix > 0:\n",
    "        for ax in axes:\n",
    "            ax.set_ylabel(None)\n",
    "plt.suptitle(\" \", fontsize=0.1)\n",
    "\n",
    "for fmt in [\"png\", \"pdf\"]:\n",
    "    fig.savefig(f\"figures/FHN_sbc.{fmt}\", dpi=300, bbox_inches='tight')"
   ]
  }
 ],
 "metadata": {
  "kernelspec": {
   "display_name": "Python 3",
   "language": "python",
   "name": "python3"
  },
  "language_info": {
   "codemirror_mode": {
    "name": "ipython",
    "version": 3
   },
   "file_extension": ".py",
   "mimetype": "text/x-python",
   "name": "python",
   "nbconvert_exporter": "python",
   "pygments_lexer": "ipython3",
   "version": "3.7.6"
  }
 },
 "nbformat": 4,
 "nbformat_minor": 5
}
